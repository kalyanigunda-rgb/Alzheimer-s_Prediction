{
  "nbformat": 4,
  "nbformat_minor": 0,
  "metadata": {
    "colab": {
      "name": "NASANETmobile",
      "provenance": [],
      "collapsed_sections": []
    },
    "kernelspec": {
      "display_name": "Python 3",
      "name": "python3"
    }
  },
  "cells": [
    {
      "cell_type": "code",
      "metadata": {
        "id": "4cgSWTkerjAc"
      },
      "source": [
        "import numpy as np\n",
        "import pandas as pd\n",
        "import matplotlib.pyplot as plt\n",
        "import seaborn as sn\n",
        "import skimage.io\n",
        "import os \n",
        "import tqdm\n",
        "import glob\n",
        "import tensorflow \n",
        "\n",
        "from tqdm import tqdm\n",
        "from sklearn.utils import shuffle\n",
        "from sklearn import metrics\n",
        "from sklearn.metrics import confusion_matrix, classification_report\n",
        "from sklearn.model_selection import train_test_split\n",
        "\n",
        "from skimage.io import imread, imshow\n",
        "from skimage.transform import resize\n",
        "from skimage.color import grey2rgb\n",
        "\n",
        "import tensorflow as tf\n",
        "from tensorflow.keras.preprocessing.image import ImageDataGenerator\n",
        "from tensorflow.keras.preprocessing import image_dataset_from_directory\n",
        "from tensorflow.keras.models import Sequential\n",
        "from tensorflow.keras.layers import InputLayer, BatchNormalization, Dropout, Flatten, Dense, Activation, MaxPool2D, Conv2D\n",
        "from tensorflow.keras.callbacks import EarlyStopping, ModelCheckpoint\n",
        "from tensorflow.keras.applications.resnet50 import ResNet50\n",
        "from tensorflow.keras.applications.vgg16 import VGG16 # VGG16\n",
        "from tensorflow.keras.applications.vgg19 import VGG19 # VGG19\n",
        "from tensorflow.keras.applications.resnet50 import ResNet50 # ResNet50\n",
        "from tensorflow.keras.applications.xception import Xception # Xception\n",
        "from tensorflow.keras.applications.mobilenet import MobileNet # MobileNet\n",
        "from tensorflow.keras.applications.nasnet import NASNetMobile # NASNetMobile\n",
        "from tensorflow.keras.applications.densenet import DenseNet169 # DenseNet169\n",
        "from tensorflow.keras.applications.densenet import DenseNet121 # DenseNet121\n",
        "from tensorflow.keras.applications.mobilenet_v2 import MobileNetV2 # MobileNetV2\n",
        "from tensorflow.keras.applications.inception_v3 import InceptionV3 # InceptionV3\n",
        "from tensorflow.keras.utils import to_categorical\n",
        "from keras import optimizers\n",
        "\n",
        "from keras.callbacks import Callback,ModelCheckpoint\n",
        "from keras.models import Sequential,load_model\n",
        "from keras.layers import Dense, Dropout\n",
        "from keras.wrappers.scikit_learn import KerasClassifier\n",
        "import keras.backend as K\n",
        "\n",
        "#import tensorflow_addons as tfa\n",
        "#from tensorflow.keras.metrics import Metric\n",
        "#from tensorflow_addons.utils.types import AcceptableDTypes, FloatTensorLike\n",
        "from typeguard import typechecked\n",
        "from typing import Optional"
      ],
      "execution_count": null,
      "outputs": []
    },
    {
      "cell_type": "code",
      "metadata": {
        "id": "ODosujq0r6Nx"
      },
      "source": [
        "import zipfile\n",
        "from zipfile import ZipFile\n",
        "filename = 'archive.zip'\n",
        "with ZipFile(filename,'r') as zip:\n",
        "  zip.extractall()"
      ],
      "execution_count": null,
      "outputs": []
    },
    {
      "cell_type": "code",
      "metadata": {
        "colab": {
          "base_uri": "https://localhost:8080/"
        },
        "id": "eHdlMV_yr9G9",
        "outputId": "0e3a680a-8077-4cef-ebbd-015db3ff9098"
      },
      "source": [
        "AUTOTUNE = tf.data.experimental.AUTOTUNE\n",
        "train_datagen = ImageDataGenerator(rescale = 1./255,\n",
        "                                   validation_split = 0.2,\n",
        "                                  \n",
        "        rotation_range=5,\n",
        "        width_shift_range=0.2,\n",
        "        height_shift_range=0.2,\n",
        "        shear_range=0.2,\n",
        "        #zoom_range=0.2,\n",
        "        horizontal_flip=True,\n",
        "        vertical_flip=True,\n",
        "        fill_mode='nearest')\n",
        "\n",
        "valid_datagen = ImageDataGenerator(rescale = 1./255,\n",
        "                                  validation_split = 0.2)\n",
        "\n",
        "test_datagen  = ImageDataGenerator(rescale = 1./255\n",
        "                                  )\n",
        "\n",
        "train_dataset  = train_datagen.flow_from_directory(directory = 'Alzheimer_s Dataset/train',\n",
        "                                                   target_size = (224,224),\n",
        "                                                   class_mode = 'categorical',\n",
        "                                                   subset = 'training',\n",
        "                                                   batch_size = 32)\n",
        "\n",
        "valid_dataset = valid_datagen.flow_from_directory(directory = 'Alzheimer_s Dataset/train',\n",
        "                                                  target_size = (224,224),\n",
        "                                                  class_mode = 'categorical',\n",
        "                                                  subset = 'validation',\n",
        "                                                  batch_size = 32)\n",
        "\n",
        "test_dataset = test_datagen.flow_from_directory(directory = 'Alzheimer_s Dataset/test',\n",
        "                                                  target_size = (224,224),\n",
        "                                                  class_mode = 'categorical',\n",
        "                                                  batch_size = 32)"
      ],
      "execution_count": null,
      "outputs": [
        {
          "output_type": "stream",
          "text": [
            "Found 4098 images belonging to 4 classes.\n",
            "Found 1023 images belonging to 4 classes.\n",
            "Found 1279 images belonging to 4 classes.\n"
          ],
          "name": "stdout"
        }
      ]
    },
    {
      "cell_type": "code",
      "metadata": {
        "colab": {
          "base_uri": "https://localhost:8080/"
        },
        "id": "rLafeq8Cr9KT",
        "outputId": "42f7263b-41e0-4d9e-ad36-c056a7ce2e0e"
      },
      "source": [
        "base_model = NASNetMobile(input_shape=(224,224,3), \n",
        "                   include_top=False,\n",
        "                   weights=\"imagenet\")"
      ],
      "execution_count": null,
      "outputs": [
        {
          "output_type": "stream",
          "text": [
            "Downloading data from https://storage.googleapis.com/tensorflow/keras-applications/nasnet/NASNet-mobile-no-top.h5\n",
            "19996672/19993432 [==============================] - 0s 0us/step\n"
          ],
          "name": "stdout"
        }
      ]
    },
    {
      "cell_type": "code",
      "metadata": {
        "id": "LAusLKtbsGuP"
      },
      "source": [
        ""
      ],
      "execution_count": null,
      "outputs": []
    },
    {
      "cell_type": "code",
      "metadata": {
        "colab": {
          "base_uri": "https://localhost:8080/"
        },
        "id": "qGIIEIlulhFs",
        "outputId": "96774a31-47aa-4c9d-ec1f-086c350460a0"
      },
      "source": [
        "# Freezing Layers\n",
        "\n",
        "for layer in base_model.layers:\n",
        "    layer.trainable=False\n",
        "# Building Model\n",
        "\n",
        "model=Sequential()\n",
        "model.add(base_model)\n",
        "model.add(Dropout(0.5))\n",
        "model.add(Flatten())\n",
        "model.add(BatchNormalization())\n",
        "model.add(Dense(64,kernel_initializer='he_uniform'))\n",
        "model.add(BatchNormalization())\n",
        "model.add(Activation('relu'))\n",
        "model.add(Dropout(0.5))\n",
        "model.add(Dense(64,kernel_initializer='he_uniform'))\n",
        "model.add(BatchNormalization())\n",
        "model.add(Activation('relu'))\n",
        "model.add(Dropout(0.5))\n",
        "model.add(Dense(64,kernel_initializer='he_uniform'))\n",
        "model.add(BatchNormalization())\n",
        "model.add(Activation('relu'))\n",
        "model.add(Dropout(0.5))\n",
        "model.add(Dense(32,kernel_initializer='he_uniform'))\n",
        "model.add(BatchNormalization())\n",
        "model.add(Activation('relu'))\n",
        "model.add(Dropout(0.5))\n",
        "model.add(Dense(32,kernel_initializer='he_uniform'))\n",
        "model.add(BatchNormalization())\n",
        "model.add(Activation('relu'))\n",
        "model.add(Dense(4,activation='softmax'))\n",
        "# Model Summary\n",
        "\n",
        "model.summary()"
      ],
      "execution_count": null,
      "outputs": [
        {
          "output_type": "stream",
          "text": [
            "Model: \"sequential\"\n",
            "_________________________________________________________________\n",
            "Layer (type)                 Output Shape              Param #   \n",
            "=================================================================\n",
            "NASNet (Functional)          (None, 7, 7, 1056)        4269716   \n",
            "_________________________________________________________________\n",
            "dropout (Dropout)            (None, 7, 7, 1056)        0         \n",
            "_________________________________________________________________\n",
            "flatten (Flatten)            (None, 51744)             0         \n",
            "_________________________________________________________________\n",
            "batch_normalization (BatchNo (None, 51744)             206976    \n",
            "_________________________________________________________________\n",
            "dense (Dense)                (None, 64)                3311680   \n",
            "_________________________________________________________________\n",
            "batch_normalization_1 (Batch (None, 64)                256       \n",
            "_________________________________________________________________\n",
            "activation_188 (Activation)  (None, 64)                0         \n",
            "_________________________________________________________________\n",
            "dropout_1 (Dropout)          (None, 64)                0         \n",
            "_________________________________________________________________\n",
            "dense_1 (Dense)              (None, 64)                4160      \n",
            "_________________________________________________________________\n",
            "batch_normalization_2 (Batch (None, 64)                256       \n",
            "_________________________________________________________________\n",
            "activation_189 (Activation)  (None, 64)                0         \n",
            "_________________________________________________________________\n",
            "dropout_2 (Dropout)          (None, 64)                0         \n",
            "_________________________________________________________________\n",
            "dense_2 (Dense)              (None, 64)                4160      \n",
            "_________________________________________________________________\n",
            "batch_normalization_3 (Batch (None, 64)                256       \n",
            "_________________________________________________________________\n",
            "activation_190 (Activation)  (None, 64)                0         \n",
            "_________________________________________________________________\n",
            "dropout_3 (Dropout)          (None, 64)                0         \n",
            "_________________________________________________________________\n",
            "dense_3 (Dense)              (None, 32)                2080      \n",
            "_________________________________________________________________\n",
            "batch_normalization_4 (Batch (None, 32)                128       \n",
            "_________________________________________________________________\n",
            "activation_191 (Activation)  (None, 32)                0         \n",
            "_________________________________________________________________\n",
            "dropout_4 (Dropout)          (None, 32)                0         \n",
            "_________________________________________________________________\n",
            "dense_4 (Dense)              (None, 32)                1056      \n",
            "_________________________________________________________________\n",
            "batch_normalization_5 (Batch (None, 32)                128       \n",
            "_________________________________________________________________\n",
            "activation_192 (Activation)  (None, 32)                0         \n",
            "_________________________________________________________________\n",
            "dense_5 (Dense)              (None, 4)                 132       \n",
            "=================================================================\n",
            "Total params: 7,800,984\n",
            "Trainable params: 3,427,268\n",
            "Non-trainable params: 4,373,716\n",
            "_________________________________________________________________\n"
          ],
          "name": "stdout"
        }
      ]
    },
    {
      "cell_type": "code",
      "metadata": {
        "id": "Ls-5jlHWlhNy"
      },
      "source": [
        "def f1_score(y_true, y_pred): #taken from old keras source code\n",
        "    true_positives = K.sum(K.round(K.clip(y_true * y_pred, 0, 1)))\n",
        "    possible_positives = K.sum(K.round(K.clip(y_true, 0, 1)))\n",
        "    predicted_positives = K.sum(K.round(K.clip(y_pred, 0, 1)))\n",
        "    precision = true_positives / (predicted_positives + K.epsilon())\n",
        "    recall = true_positives / (possible_positives + K.epsilon())\n",
        "    f1_val = 2*(precision*recall)/(precision+recall+K.epsilon())\n",
        "    return f1_val\n",
        "METRICS = [\n",
        "      tf.keras.metrics.BinaryAccuracy(name='accuracy'),\n",
        "      tf.keras.metrics.Precision(name='precision'),\n",
        "      tf.keras.metrics.Recall(name='recall'),  \n",
        "      tf.keras.metrics.AUC(name='auc'),\n",
        "        f1_score,\n",
        "]"
      ],
      "execution_count": null,
      "outputs": []
    },
    {
      "cell_type": "code",
      "metadata": {
        "id": "cA66gnifsG2h"
      },
      "source": [
        ""
      ],
      "execution_count": null,
      "outputs": []
    },
    {
      "cell_type": "code",
      "metadata": {
        "colab": {
          "background_save": true,
          "base_uri": "https://localhost:8080/"
        },
        "id": "ksYF1u6ZlhT5",
        "outputId": "712437d9-1e6b-4b67-aa56-e93f05f53cc5"
      },
      "source": [
        "def exponential_decay(lr0, s):\n",
        "    def exponential_decay_fn(epoch):\n",
        "        return lr0 * 0.1 **(epoch / s)\n",
        "    return exponential_decay_fn\n",
        "\n",
        "exponential_decay_fn = exponential_decay(0.01, 5) # when i run it for 50 epochs\n",
        "\n",
        "lr_scheduler = tf.keras.callbacks.LearningRateScheduler(exponential_decay_fn)\n",
        "model.compile(optimizer='rmsprop', loss='categorical_crossentropy',metrics=METRICS)\n",
        "history=model.fit(train_dataset,\n",
        "                        validation_data=valid_dataset,\n",
        "                        epochs = 20,\n",
        "                        verbose = 1,\n",
        "                         callbacks=lr_scheduler)"
      ],
      "execution_count": null,
      "outputs": [
        {
          "output_type": "stream",
          "text": [
            "Epoch 1/20\n",
            "129/129 [==============================] - 597s 5s/step - loss: 1.1639 - accuracy: 0.7438 - precision: 0.4696 - recall: 0.2103 - auc: 0.7369 - f1_score: 0.2835 - val_loss: 1.2442 - val_accuracy: 0.7761 - val_precision: 0.5824 - val_recall: 0.3695 - val_auc: 0.7890 - val_f1_score: 0.4493\n",
            "Epoch 2/20\n",
            "129/129 [==============================] - 574s 4s/step - loss: 1.0584 - accuracy: 0.7573 - precision: 0.5343 - recall: 0.2182 - auc: 0.7801 - f1_score: 0.2949 - val_loss: 1.0943 - val_accuracy: 0.7727 - val_precision: 0.6105 - val_recall: 0.2512 - val_auc: 0.7967 - val_f1_score: 0.3525\n",
            "Epoch 3/20\n",
            "129/129 [==============================] - 577s 4s/step - loss: 1.0100 - accuracy: 0.7692 - precision: 0.6083 - recall: 0.2146 - auc: 0.7943 - f1_score: 0.3148 - val_loss: 1.0352 - val_accuracy: 0.7703 - val_precision: 0.7371 - val_recall: 0.1261 - val_auc: 0.7974 - val_f1_score: 0.2120\n",
            "Epoch 4/20\n",
            "129/129 [==============================] - 571s 4s/step - loss: 0.9977 - accuracy: 0.7741 - precision: 0.6513 - recall: 0.2073 - auc: 0.7989 - f1_score: 0.3083 - val_loss: 1.0224 - val_accuracy: 0.7683 - val_precision: 0.8205 - val_recall: 0.0938 - val_auc: 0.8007 - val_f1_score: 0.1660\n",
            "Epoch 5/20\n",
            "129/129 [==============================] - 577s 4s/step - loss: 1.0100 - accuracy: 0.7739 - precision: 0.6510 - recall: 0.2066 - auc: 0.7971 - f1_score: 0.3121 - val_loss: 1.0136 - val_accuracy: 0.7688 - val_precision: 0.8080 - val_recall: 0.0987 - val_auc: 0.8032 - val_f1_score: 0.1731\n",
            "Epoch 6/20\n",
            "129/129 [==============================] - 577s 4s/step - loss: 0.9991 - accuracy: 0.7779 - precision: 0.6604 - recall: 0.2281 - auc: 0.8047 - f1_score: 0.3461 - val_loss: 1.0243 - val_accuracy: 0.7683 - val_precision: 0.8440 - val_recall: 0.0899 - val_auc: 0.7960 - val_f1_score: 0.1595\n",
            "Epoch 7/20\n",
            "129/129 [==============================] - 585s 5s/step - loss: 1.0088 - accuracy: 0.7774 - precision: 0.6669 - recall: 0.2190 - auc: 0.7995 - f1_score: 0.3322 - val_loss: 1.0218 - val_accuracy: 0.7688 - val_precision: 0.8738 - val_recall: 0.0880 - val_auc: 0.7933 - val_f1_score: 0.1567\n",
            "Epoch 8/20\n",
            "129/129 [==============================] - 583s 5s/step - loss: 0.9858 - accuracy: 0.7795 - precision: 0.6709 - recall: 0.2327 - auc: 0.8060 - f1_score: 0.3387 - val_loss: 1.0214 - val_accuracy: 0.7688 - val_precision: 0.8532 - val_recall: 0.0909 - val_auc: 0.8004 - val_f1_score: 0.1615\n",
            "Epoch 9/20\n",
            "129/129 [==============================] - 592s 5s/step - loss: 1.0009 - accuracy: 0.7791 - precision: 0.6755 - recall: 0.2237 - auc: 0.8073 - f1_score: 0.3364 - val_loss: 1.0214 - val_accuracy: 0.7693 - val_precision: 0.8692 - val_recall: 0.0909 - val_auc: 0.7982 - val_f1_score: 0.1598\n",
            "Epoch 10/20\n",
            "129/129 [==============================] - 593s 5s/step - loss: 0.9918 - accuracy: 0.7795 - precision: 0.6700 - recall: 0.2332 - auc: 0.8055 - f1_score: 0.3451 - val_loss: 1.0232 - val_accuracy: 0.7693 - val_precision: 0.8692 - val_recall: 0.0909 - val_auc: 0.7964 - val_f1_score: 0.1606\n",
            "Epoch 11/20\n",
            "129/129 [==============================] - 583s 5s/step - loss: 0.9923 - accuracy: 0.7826 - precision: 0.6963 - recall: 0.2323 - auc: 0.8041 - f1_score: 0.3478 - val_loss: 1.0225 - val_accuracy: 0.7693 - val_precision: 0.8692 - val_recall: 0.0909 - val_auc: 0.7972 - val_f1_score: 0.1611\n",
            "Epoch 12/20\n",
            "129/129 [==============================] - 580s 5s/step - loss: 0.9840 - accuracy: 0.7807 - precision: 0.6851 - recall: 0.2275 - auc: 0.8081 - f1_score: 0.3417 - val_loss: 1.0219 - val_accuracy: 0.7693 - val_precision: 0.8692 - val_recall: 0.0909 - val_auc: 0.8008 - val_f1_score: 0.1606\n",
            "Epoch 13/20\n",
            "129/129 [==============================] - 581s 5s/step - loss: 0.9848 - accuracy: 0.7848 - precision: 0.7014 - recall: 0.2421 - auc: 0.8040 - f1_score: 0.3504 - val_loss: 1.0222 - val_accuracy: 0.7693 - val_precision: 0.8692 - val_recall: 0.0909 - val_auc: 0.7997 - val_f1_score: 0.1624\n",
            "Epoch 14/20\n",
            "129/129 [==============================] - 583s 5s/step - loss: 0.9829 - accuracy: 0.7821 - precision: 0.6946 - recall: 0.2294 - auc: 0.8123 - f1_score: 0.3437 - val_loss: 1.0224 - val_accuracy: 0.7693 - val_precision: 0.8692 - val_recall: 0.0909 - val_auc: 0.7973 - val_f1_score: 0.1619\n",
            "Epoch 15/20\n",
            "129/129 [==============================] - 584s 5s/step - loss: 0.9986 - accuracy: 0.7810 - precision: 0.6863 - recall: 0.2287 - auc: 0.8063 - f1_score: 0.3412 - val_loss: 1.0219 - val_accuracy: 0.7693 - val_precision: 0.8692 - val_recall: 0.0909 - val_auc: 0.7971 - val_f1_score: 0.1605\n",
            "Epoch 16/20\n",
            "129/129 [==============================] - 582s 5s/step - loss: 1.0046 - accuracy: 0.7768 - precision: 0.6646 - recall: 0.2167 - auc: 0.7980 - f1_score: 0.3268 - val_loss: 1.0231 - val_accuracy: 0.7693 - val_precision: 0.8692 - val_recall: 0.0909 - val_auc: 0.7966 - val_f1_score: 0.1620\n",
            "Epoch 17/20\n",
            "129/129 [==============================] - 580s 4s/step - loss: 1.0072 - accuracy: 0.7809 - precision: 0.6814 - recall: 0.2325 - auc: 0.7983 - f1_score: 0.3470 - val_loss: 1.0226 - val_accuracy: 0.7693 - val_precision: 0.8692 - val_recall: 0.0909 - val_auc: 0.7957 - val_f1_score: 0.1598\n",
            "Epoch 18/20\n",
            "129/129 [==============================] - 581s 5s/step - loss: 0.9690 - accuracy: 0.7824 - precision: 0.7018 - recall: 0.2266 - auc: 0.8104 - f1_score: 0.3408 - val_loss: 1.0234 - val_accuracy: 0.7693 - val_precision: 0.8692 - val_recall: 0.0909 - val_auc: 0.7958 - val_f1_score: 0.1616\n",
            "Epoch 19/20\n",
            "129/129 [==============================] - 583s 5s/step - loss: 1.0031 - accuracy: 0.7840 - precision: 0.6973 - recall: 0.2405 - auc: 0.8046 - f1_score: 0.3603 - val_loss: 1.0228 - val_accuracy: 0.7691 - val_precision: 0.8679 - val_recall: 0.0899 - val_auc: 0.7979 - val_f1_score: 0.1588\n",
            "Epoch 20/20\n",
            "129/129 [==============================] - 586s 5s/step - loss: 0.9934 - accuracy: 0.7816 - precision: 0.6896 - recall: 0.2302 - auc: 0.8065 - f1_score: 0.3445 - val_loss: 1.0227 - val_accuracy: 0.7691 - val_precision: 0.8679 - val_recall: 0.0899 - val_auc: 0.7980 - val_f1_score: 0.1576\n"
          ],
          "name": "stdout"
        }
      ]
    },
    {
      "cell_type": "code",
      "metadata": {
        "colab": {
          "background_save": true
        },
        "id": "lACLGQVQsG9v"
      },
      "source": [
        ""
      ],
      "execution_count": null,
      "outputs": []
    },
    {
      "cell_type": "code",
      "metadata": {
        "colab": {
          "background_save": true,
          "base_uri": "https://localhost:8080/",
          "height": 299
        },
        "id": "nrFHvn3Fl2c8",
        "outputId": "63fe3d6b-f4e9-440f-ac93-1b893e6bb27d"
      },
      "source": [
        "#%% PLOTTING RESULTS (Train vs Validation FOLDER 1)\n",
        "\n",
        "def Train_Val_Plot(acc,val_acc,loss,val_loss,auc,val_auc,precision,val_precision,f1,val_f1):\n",
        "    \n",
        "    fig, (ax1, ax2,ax3,ax4,ax5) = plt.subplots(1,5, figsize= (20,5))\n",
        "    fig.suptitle(\" MODEL'S METRICS VISUALIZATION \")\n",
        "\n",
        "    ax1.plot(range(1, len(acc) + 1), acc)\n",
        "    ax1.plot(range(1, len(val_acc) + 1), val_acc)\n",
        "    ax1.set_title('History of Accuracy')\n",
        "    ax1.set_xlabel('Epochs')\n",
        "    ax1.set_ylabel('Accuracy')\n",
        "    ax1.legend(['training', 'validation'])\n",
        "\n",
        "\n",
        "    ax2.plot(range(1, len(loss) + 1), loss)\n",
        "    ax2.plot(range(1, len(val_loss) + 1), val_loss)\n",
        "    ax2.set_title('History of Loss')\n",
        "    ax2.set_xlabel('Epochs')\n",
        "    ax2.set_ylabel('Loss')\n",
        "    ax2.legend(['training', 'validation'])\n",
        "    \n",
        "    ax3.plot(range(1, len(auc) + 1), auc)\n",
        "    ax3.plot(range(1, len(val_auc) + 1), val_auc)\n",
        "    ax3.set_title('History of AUC')\n",
        "    ax3.set_xlabel('Epochs')\n",
        "    ax3.set_ylabel('AUC')\n",
        "    ax3.legend(['training', 'validation'])\n",
        "    \n",
        "    ax4.plot(range(1, len(precision) + 1), precision)\n",
        "    ax4.plot(range(1, len(val_precision) + 1), val_precision)\n",
        "    ax4.set_title('History of Precision')\n",
        "    ax4.set_xlabel('Epochs')\n",
        "    ax4.set_ylabel('Precision')\n",
        "    ax4.legend(['training', 'validation'])\n",
        "    \n",
        "    ax5.plot(range(1, len(f1) + 1), f1)\n",
        "    ax5.plot(range(1, len(val_f1) + 1), val_f1)\n",
        "    ax5.set_title('History of F1-score')\n",
        "    ax5.set_xlabel('Epochs')\n",
        "    ax5.set_ylabel('F1 score')\n",
        "    ax5.legend(['training', 'validation'])\n",
        "\n",
        "\n",
        "    plt.show()\n",
        "    \n",
        "\n",
        "Train_Val_Plot(history.history['accuracy'],history.history['val_accuracy'],\n",
        "               history.history['loss'],history.history['val_loss'],\n",
        "               history.history['auc'],history.history['val_auc'],\n",
        "               history.history['precision'],history.history['val_precision'],\n",
        "               history.history['f1_score'],history.history['val_f1_score']\n",
        "              )"
      ],
      "execution_count": null,
      "outputs": [
        {
          "output_type": "display_data",
          "data": {
            "image/png": "[encoded data removed]",
            "text/plain": [
              "<Figure size 1440x360 with 5 Axes>"
            ]
          },
          "metadata": {
            "tags": []
          }
        }
      ]
    },
    {
      "cell_type": "code",
      "metadata": {
        "colab": {
          "background_save": true
        },
        "id": "ETAHJ43Nr9ON"
      },
      "source": [
        ""
      ],
      "execution_count": null,
      "outputs": []
    },
    {
      "cell_type": "code",
      "metadata": {
        "colab": {
          "base_uri": "https://localhost:8080/"
        },
        "id": "yALlrTAKmAMX",
        "outputId": "a05d12b9-66de-4b15-9fa5-ad5c11c56684"
      },
      "source": [
        "scores = model.evaluate_generator(test_dataset)\n",
        "print(\"Accuracy = \", scores[1])\n",
        "print(\"Precision = \", scores[2])\n",
        "print(\"Recall = \", scores[3])\n",
        "print(\"AUC = \", scores[4])\n",
        "print(\"F1_score = \", scores[5])"
      ],
      "execution_count": null,
      "outputs": [
        {
          "output_type": "stream",
          "text": [
            "/usr/local/lib/python3.7/dist-packages/tensorflow/python/keras/engine/training.py:1877: UserWarning: `Model.evaluate_generator` is deprecated and will be removed in a future version. Please use `Model.evaluate`, which supports generators.\n",
            "  warnings.warn('`Model.evaluate_generator` is deprecated and '\n"
          ],
          "name": "stderr"
        },
        {
          "output_type": "stream",
          "text": [
            "Accuracy =  0.7865520119667053\n",
            "Precision =  0.7159353494644165\n",
            "Recall =  0.24237686395645142\n",
            "AUC =  0.8179318904876709\n",
            "F1_score =  0.3572549819946289\n"
          ],
          "name": "stdout"
        }
      ]
    },
    {
      "cell_type": "code",
      "metadata": {
        "id": "wyAJ5Hm4r9S8"
      },
      "source": [
        ""
      ],
      "execution_count": null,
      "outputs": []
    }
  ]
}