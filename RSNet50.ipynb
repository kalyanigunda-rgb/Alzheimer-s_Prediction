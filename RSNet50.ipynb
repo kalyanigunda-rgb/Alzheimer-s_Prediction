{
  "nbformat": 4,
  "nbformat_minor": 0,
  "metadata": {
    "colab": {
      "name": "RSNet50.ipynb",
      "provenance": [],
      "collapsed_sections": []
    },
    "kernelspec": {
      "name": "python3",
      "display_name": "Python 3"
    }
  },
  "cells": [
    {
      "cell_type": "code",
      "metadata": {
        "id": "ig2tBhGEXaIN"
      },
      "source": [
        "import zipfile\n",
        "from zipfile import ZipFile\n",
        "filename = 'archive.zip'\n",
        "with ZipFile(filename,'r') as zip:\n",
        "  zip.extractall()"
      ],
      "execution_count": null,
      "outputs": []
    },
    {
      "cell_type": "code",
      "metadata": {
        "colab": {
          "base_uri": "https://localhost:8080/"
        },
        "id": "GMiVt5YHYL3O",
        "outputId": "71351a49-c52d-4c4e-a854-dd9de5592fda"
      },
      "source": [
        "pip install tqdm"
      ],
      "execution_count": null,
      "outputs": [
        {
          "output_type": "stream",
          "text": [
            "Requirement already satisfied: tqdm in /usr/local/lib/python3.6/dist-packages (4.41.1)\n"
          ],
          "name": "stdout"
        }
      ]
    },
    {
      "cell_type": "code",
      "metadata": {
        "id": "2srBNPfLT3hM"
      },
      "source": [
        "import numpy as np\n",
        "import pandas as pd\n",
        "import matplotlib.pyplot as plt\n",
        "import seaborn as sn\n",
        "import skimage.io\n",
        "import os \n",
        "import tqdm\n",
        "import glob\n",
        "import tensorflow \n",
        "\n",
        "from tqdm import tqdm\n",
        "from sklearn.utils import shuffle\n",
        "from sklearn import metrics\n",
        "from sklearn.metrics import confusion_matrix, classification_report\n",
        "from sklearn.model_selection import train_test_split\n",
        "\n",
        "from skimage.io import imread, imshow\n",
        "from skimage.transform import resize\n",
        "from skimage.color import grey2rgb\n",
        "\n",
        "import tensorflow as tf\n",
        "from tensorflow.keras.preprocessing.image import ImageDataGenerator\n",
        "from tensorflow.keras.preprocessing import image_dataset_from_directory\n",
        "from tensorflow.keras.models import Sequential\n",
        "from tensorflow.keras.layers import InputLayer, BatchNormalization, Dropout, Flatten, Dense, Activation, MaxPool2D, Conv2D\n",
        "from tensorflow.keras.callbacks import EarlyStopping, ModelCheckpoint\n",
        "from tensorflow.keras.applications.resnet50 import ResNet50\n",
        "from tensorflow.keras.utils import to_categorical\n",
        "from keras import optimizers"
      ],
      "execution_count": null,
      "outputs": []
    },
    {
      "cell_type": "code",
      "metadata": {
        "id": "yHnSt1O5YP4G"
      },
      "source": [
        "from keras.callbacks import Callback,ModelCheckpoint\n",
        "from keras.models import Sequential,load_model\n",
        "from keras.layers import Dense, Dropout\n",
        "from keras.wrappers.scikit_learn import KerasClassifier\n",
        "import keras.backend as K\n",
        "\n",
        "#import tensorflow_addons as tfa\n",
        "#from tensorflow.keras.metrics import Metric\n",
        "#from tensorflow_addons.utils.types import AcceptableDTypes, FloatTensorLike\n",
        "from typeguard import typechecked\n",
        "from typing import Optional"
      ],
      "execution_count": null,
      "outputs": []
    },
    {
      "cell_type": "code",
      "metadata": {
        "id": "uN9vR9RvUUs4"
      },
      "source": [
        "AUTOTUNE = tf.data.experimental.AUTOTUNE"
      ],
      "execution_count": null,
      "outputs": []
    },
    {
      "cell_type": "code",
      "metadata": {
        "colab": {
          "base_uri": "https://localhost:8080/"
        },
        "id": "uC9U1IGkV1fL",
        "outputId": "5f4a3837-a68b-4eed-e56e-66c981ba97b1"
      },
      "source": [
        "train_datagen = ImageDataGenerator(rescale = 1./255,\n",
        "                                   validation_split = 0.2,\n",
        "                                  \n",
        "        rotation_range=5,\n",
        "        width_shift_range=0.2,\n",
        "        height_shift_range=0.2,\n",
        "        shear_range=0.2,\n",
        "        #zoom_range=0.2,\n",
        "        horizontal_flip=True,\n",
        "        vertical_flip=True,\n",
        "        fill_mode='nearest')\n",
        "\n",
        "valid_datagen = ImageDataGenerator(rescale = 1./255,\n",
        "                                  validation_split = 0.2)\n",
        "\n",
        "test_datagen  = ImageDataGenerator(rescale = 1./255\n",
        "                                  )\n",
        "\n",
        "train_dataset  = train_datagen.flow_from_directory(directory = 'Alzheimer_s Dataset/train',\n",
        "                                                   target_size = (224,224),\n",
        "                                                   class_mode = 'categorical',\n",
        "                                                   subset = 'training',\n",
        "                                                   batch_size = 32)"
      ],
      "execution_count": null,
      "outputs": [
        {
          "output_type": "stream",
          "text": [
            "Found 4098 images belonging to 4 classes.\n"
          ],
          "name": "stdout"
        }
      ]
    },
    {
      "cell_type": "code",
      "metadata": {
        "colab": {
          "base_uri": "https://localhost:8080/"
        },
        "id": "gPzmHfwgWH9b",
        "outputId": "9a53b75b-4b99-4422-e939-9a787b963f96"
      },
      "source": [
        "valid_dataset = valid_datagen.flow_from_directory(directory = 'Alzheimer_s Dataset/train',\n",
        "                                                  target_size = (224,224),\n",
        "                                                  class_mode = 'categorical',\n",
        "                                                  subset = 'validation',\n",
        "                                                  batch_size = 32)\n"
      ],
      "execution_count": null,
      "outputs": [
        {
          "output_type": "stream",
          "text": [
            "Found 1023 images belonging to 4 classes.\n"
          ],
          "name": "stdout"
        }
      ]
    },
    {
      "cell_type": "code",
      "metadata": {
        "colab": {
          "base_uri": "https://localhost:8080/"
        },
        "id": "ggjXRZW6WtAQ",
        "outputId": "0337618f-646e-40fd-b8ab-d382634e9061"
      },
      "source": [
        "test_dataset = test_datagen.flow_from_directory(directory = 'Alzheimer_s Dataset/test',\n",
        "                                                  target_size = (224,224),\n",
        "                                                  class_mode = 'categorical',\n",
        "                                                  batch_size = 32)\n"
      ],
      "execution_count": null,
      "outputs": [
        {
          "output_type": "stream",
          "text": [
            "Found 1279 images belonging to 4 classes.\n"
          ],
          "name": "stdout"
        }
      ]
    },
    {
      "cell_type": "code",
      "metadata": {
        "id": "1MuSq3yAWtDy"
      },
      "source": [
        "base_model = ResNet50(input_shape=(224,224,3), \n",
        "                   include_top=False,\n",
        "                   weights=\"imagenet\")\n",
        "for layer in base_model.layers:\n",
        "    layer.trainable=False\n",
        "\n",
        "model=Sequential()\n",
        "model.add(base_model)\n",
        "model.add(Dropout(0.5))\n",
        "model.add(Flatten())\n",
        "model.add(BatchNormalization())\n",
        "model.add(Dense(64,kernel_initializer='he_uniform'))\n",
        "model.add(BatchNormalization())\n",
        "model.add(Activation('relu'))\n",
        "model.add(Dropout(0.5))\n",
        "model.add(Dense(64,kernel_initializer='he_uniform'))\n",
        "model.add(BatchNormalization())\n",
        "model.add(Activation('relu'))\n",
        "model.add(Dropout(0.5))\n",
        "model.add(Dense(64,kernel_initializer='he_uniform'))\n",
        "model.add(BatchNormalization())\n",
        "model.add(Activation('relu'))\n",
        "model.add(Dropout(0.5))\n",
        "model.add(Dense(32,kernel_initializer='he_uniform'))\n",
        "model.add(BatchNormalization())\n",
        "model.add(Activation('relu'))\n",
        "model.add(Dropout(0.5))\n",
        "model.add(Dense(32,kernel_initializer='he_uniform'))\n",
        "model.add(BatchNormalization())\n",
        "model.add(Activation('relu'))\n",
        "model.add(Dense(4,activation='softmax'))"
      ],
      "execution_count": null,
      "outputs": []
    },
    {
      "cell_type": "code",
      "metadata": {
        "id": "pxvDUp6iXYkB"
      },
      "source": [
        "def f1_score(y_true, y_pred): #taken from old keras source code\n",
        "    true_positives = K.sum(K.round(K.clip(y_true * y_pred, 0, 1)))\n",
        "    possible_positives = K.sum(K.round(K.clip(y_true, 0, 1)))\n",
        "    predicted_positives = K.sum(K.round(K.clip(y_pred, 0, 1)))\n",
        "    precision = true_positives / (predicted_positives + K.epsilon())\n",
        "    recall = true_positives / (possible_positives + K.epsilon())\n",
        "    f1_val = 2*(precision*recall)/(precision+recall+K.epsilon())\n",
        "    return f1_val"
      ],
      "execution_count": null,
      "outputs": []
    },
    {
      "cell_type": "code",
      "metadata": {
        "id": "TB6r1bAuWtGr"
      },
      "source": [
        "METRICS = [\n",
        "      tf.keras.metrics.BinaryAccuracy(name='accuracy'),\n",
        "      tf.keras.metrics.Precision(name='precision'),\n",
        "      tf.keras.metrics.Recall(name='recall'),  \n",
        "      tf.keras.metrics.AUC(name='auc'),\n",
        "        f1_score,\n",
        "]"
      ],
      "execution_count": null,
      "outputs": []
    },
    {
      "cell_type": "code",
      "metadata": {
        "id": "1bOmvNmLWtJN"
      },
      "source": [
        "def exponential_decay(lr0, s):\n",
        "    def exponential_decay_fn(epoch):\n",
        "        return lr0 * 0.1 **(epoch / s)\n",
        "    return exponential_decay_fn\n",
        "\n",
        "exponential_decay_fn = exponential_decay(0.01, 5) # when i run it for 50 epochs\n",
        "\n",
        "lr_scheduler = tf.keras.callbacks.LearningRateScheduler(exponential_decay_fn)"
      ],
      "execution_count": null,
      "outputs": []
    },
    {
      "cell_type": "code",
      "metadata": {
        "id": "sDoGo1KtWtL3"
      },
      "source": [
        "model.compile(optimizer='rmsprop', loss='categorical_crossentropy',metrics=METRICS)"
      ],
      "execution_count": null,
      "outputs": []
    },
    {
      "cell_type": "code",
      "metadata": {
        "colab": {
          "base_uri": "https://localhost:8080/"
        },
        "id": "76DNsDYoWtPX",
        "outputId": "66b791db-2dfb-4724-9a52-171729b1dd63"
      },
      "source": [
        "history=model.fit(train_dataset,\n",
        "                        validation_data=valid_dataset,\n",
        "                        epochs = 20,\n",
        "                        verbose = 1,\n",
        "                         callbacks=lr_scheduler)"
      ],
      "execution_count": null,
      "outputs": [
        {
          "output_type": "stream",
          "text": [
            "Epoch 1/20\n",
            "129/129 [==============================] - 613s 5s/step - loss: 1.1392 - accuracy: 0.7468 - precision: 0.4886 - recall: 0.2685 - auc: 0.7545 - f1_score: 0.3354 - val_loss: 1.1210 - val_accuracy: 0.7500 - val_precision: 0.0000e+00 - val_recall: 0.0000e+00 - val_auc: 0.7295 - val_f1_score: 0.0000e+00\n",
            "Epoch 2/20\n",
            "129/129 [==============================] - 605s 5s/step - loss: 1.0410 - accuracy: 0.7591 - precision: 0.5359 - recall: 0.2563 - auc: 0.7847 - f1_score: 0.3401 - val_loss: 1.0405 - val_accuracy: 0.7754 - val_precision: 0.6116 - val_recall: 0.2786 - val_auc: 0.7888 - val_f1_score: 0.3771\n",
            "Epoch 3/20\n",
            "129/129 [==============================] - 603s 5s/step - loss: 1.0459 - accuracy: 0.7596 - precision: 0.5393 - recall: 0.2646 - auc: 0.7841 - f1_score: 0.3497 - val_loss: 1.0427 - val_accuracy: 0.7813 - val_precision: 0.6561 - val_recall: 0.2630 - val_auc: 0.7809 - val_f1_score: 0.3729\n",
            "Epoch 4/20\n",
            "129/129 [==============================] - 602s 5s/step - loss: 1.0369 - accuracy: 0.7674 - precision: 0.5754 - recall: 0.2646 - auc: 0.7891 - f1_score: 0.3583 - val_loss: 1.0273 - val_accuracy: 0.7818 - val_precision: 0.6533 - val_recall: 0.2708 - val_auc: 0.8035 - val_f1_score: 0.3785\n",
            "Epoch 5/20\n",
            "129/129 [==============================] - 601s 5s/step - loss: 1.0266 - accuracy: 0.7693 - precision: 0.5786 - recall: 0.2842 - auc: 0.7922 - f1_score: 0.3799 - val_loss: 1.0159 - val_accuracy: 0.7847 - val_precision: 0.6517 - val_recall: 0.2981 - val_auc: 0.8020 - val_f1_score: 0.4033\n",
            "Epoch 6/20\n",
            "129/129 [==============================] - 602s 5s/step - loss: 1.0093 - accuracy: 0.7731 - precision: 0.5909 - recall: 0.2994 - auc: 0.8023 - f1_score: 0.3971 - val_loss: 1.0150 - val_accuracy: 0.7849 - val_precision: 0.6493 - val_recall: 0.3040 - val_auc: 0.8013 - val_f1_score: 0.4102\n",
            "Epoch 7/20\n",
            "129/129 [==============================] - 601s 5s/step - loss: 1.0103 - accuracy: 0.7730 - precision: 0.5878 - recall: 0.3072 - auc: 0.8018 - f1_score: 0.4085 - val_loss: 1.0048 - val_accuracy: 0.7874 - val_precision: 0.6485 - val_recall: 0.3265 - val_auc: 0.8050 - val_f1_score: 0.4324\n",
            "Epoch 8/20\n",
            "129/129 [==============================] - 600s 5s/step - loss: 1.0040 - accuracy: 0.7716 - precision: 0.5852 - recall: 0.2960 - auc: 0.8022 - f1_score: 0.3973 - val_loss: 1.0040 - val_accuracy: 0.7867 - val_precision: 0.6426 - val_recall: 0.3304 - val_auc: 0.8043 - val_f1_score: 0.4350\n",
            "Epoch 9/20\n",
            "129/129 [==============================] - 601s 5s/step - loss: 1.0219 - accuracy: 0.7731 - precision: 0.5905 - recall: 0.3018 - auc: 0.7995 - f1_score: 0.3993 - val_loss: 1.0022 - val_accuracy: 0.7864 - val_precision: 0.6414 - val_recall: 0.3304 - val_auc: 0.8051 - val_f1_score: 0.4315\n",
            "Epoch 10/20\n",
            "129/129 [==============================] - 599s 5s/step - loss: 1.0289 - accuracy: 0.7690 - precision: 0.5730 - recall: 0.2986 - auc: 0.7933 - f1_score: 0.3919 - val_loss: 1.0013 - val_accuracy: 0.7864 - val_precision: 0.6414 - val_recall: 0.3304 - val_auc: 0.8039 - val_f1_score: 0.4330\n",
            "Epoch 11/20\n",
            "129/129 [==============================] - 595s 5s/step - loss: 1.0130 - accuracy: 0.7756 - precision: 0.5972 - recall: 0.3149 - auc: 0.8003 - f1_score: 0.4110 - val_loss: 1.0010 - val_accuracy: 0.7869 - val_precision: 0.6422 - val_recall: 0.3333 - val_auc: 0.8048 - val_f1_score: 0.4364\n",
            "Epoch 12/20\n",
            "129/129 [==============================] - 597s 5s/step - loss: 1.0190 - accuracy: 0.7697 - precision: 0.5771 - recall: 0.2949 - auc: 0.7941 - f1_score: 0.3894 - val_loss: 1.0003 - val_accuracy: 0.7871 - val_precision: 0.6423 - val_recall: 0.3353 - val_auc: 0.8053 - val_f1_score: 0.4387\n",
            "Epoch 13/20\n",
            "129/129 [==============================] - 597s 5s/step - loss: 0.9997 - accuracy: 0.7751 - precision: 0.5962 - recall: 0.3112 - auc: 0.8046 - f1_score: 0.4105 - val_loss: 1.0002 - val_accuracy: 0.7869 - val_precision: 0.6417 - val_recall: 0.3343 - val_auc: 0.8057 - val_f1_score: 0.4386\n",
            "Epoch 14/20\n",
            "129/129 [==============================] - 596s 5s/step - loss: 1.0135 - accuracy: 0.7746 - precision: 0.5955 - recall: 0.3075 - auc: 0.7986 - f1_score: 0.4039 - val_loss: 0.9999 - val_accuracy: 0.7874 - val_precision: 0.6430 - val_recall: 0.3363 - val_auc: 0.8052 - val_f1_score: 0.4401\n",
            "Epoch 15/20\n",
            "129/129 [==============================] - 597s 5s/step - loss: 1.0162 - accuracy: 0.7730 - precision: 0.5890 - recall: 0.3044 - auc: 0.7986 - f1_score: 0.4006 - val_loss: 0.9997 - val_accuracy: 0.7871 - val_precision: 0.6434 - val_recall: 0.3333 - val_auc: 0.8049 - val_f1_score: 0.4364\n",
            "Epoch 16/20\n",
            "129/129 [==============================] - 599s 5s/step - loss: 1.0065 - accuracy: 0.7775 - precision: 0.6086 - recall: 0.3079 - auc: 0.8025 - f1_score: 0.4079 - val_loss: 1.0001 - val_accuracy: 0.7869 - val_precision: 0.6422 - val_recall: 0.3333 - val_auc: 0.8055 - val_f1_score: 0.4363\n",
            "Epoch 17/20\n",
            "129/129 [==============================] - 597s 5s/step - loss: 1.0070 - accuracy: 0.7749 - precision: 0.5997 - recall: 0.2997 - auc: 0.8052 - f1_score: 0.3999 - val_loss: 0.9999 - val_accuracy: 0.7874 - val_precision: 0.6446 - val_recall: 0.3333 - val_auc: 0.8060 - val_f1_score: 0.4360\n",
            "Epoch 18/20\n",
            "129/129 [==============================] - 596s 5s/step - loss: 1.0305 - accuracy: 0.7725 - precision: 0.5874 - recall: 0.3023 - auc: 0.7914 - f1_score: 0.3994 - val_loss: 0.9998 - val_accuracy: 0.7864 - val_precision: 0.6419 - val_recall: 0.3294 - val_auc: 0.8053 - val_f1_score: 0.4341\n",
            "Epoch 19/20\n",
            "129/129 [==============================] - 596s 5s/step - loss: 1.0186 - accuracy: 0.7707 - precision: 0.5828 - recall: 0.2914 - auc: 0.7990 - f1_score: 0.3887 - val_loss: 0.9993 - val_accuracy: 0.7874 - val_precision: 0.6446 - val_recall: 0.3333 - val_auc: 0.8057 - val_f1_score: 0.4363\n",
            "Epoch 20/20\n",
            "129/129 [==============================] - 598s 5s/step - loss: 1.0106 - accuracy: 0.7716 - precision: 0.5851 - recall: 0.2970 - auc: 0.7991 - f1_score: 0.3929 - val_loss: 0.9997 - val_accuracy: 0.7869 - val_precision: 0.6438 - val_recall: 0.3304 - val_auc: 0.8056 - val_f1_score: 0.4324\n"
          ],
          "name": "stdout"
        }
      ]
    },
    {
      "cell_type": "code",
      "metadata": {
        "colab": {
          "base_uri": "https://localhost:8080/",
          "height": 299
        },
        "id": "pZb8TX5AYCxB",
        "outputId": "540e162d-9e45-48dd-900a-e8f9983cfd52"
      },
      "source": [
        "def Train_Val_Plot(acc,val_acc,loss,val_loss,auc,val_auc,precision,val_precision,f1,val_f1):\n",
        "    \n",
        "    fig, (ax1, ax2,ax3,ax4,ax5) = plt.subplots(1,5, figsize= (20,5))\n",
        "    fig.suptitle(\" MODEL'S METRICS VISUALIZATION \")\n",
        "\n",
        "    ax1.plot(range(1, len(acc) + 1), acc)\n",
        "    ax1.plot(range(1, len(val_acc) + 1), val_acc)\n",
        "    ax1.set_title('History of Accuracy')\n",
        "    ax1.set_xlabel('Epochs')\n",
        "    ax1.set_ylabel('Accuracy')\n",
        "    ax1.legend(['training', 'validation'])\n",
        "\n",
        "\n",
        "    ax2.plot(range(1, len(loss) + 1), loss)\n",
        "    ax2.plot(range(1, len(val_loss) + 1), val_loss)\n",
        "    ax2.set_title('History of Loss')\n",
        "    ax2.set_xlabel('Epochs')\n",
        "    ax2.set_ylabel('Loss')\n",
        "    ax2.legend(['training', 'validation'])\n",
        "    \n",
        "    ax3.plot(range(1, len(auc) + 1), auc)\n",
        "    ax3.plot(range(1, len(val_auc) + 1), val_auc)\n",
        "    ax3.set_title('History of AUC')\n",
        "    ax3.set_xlabel('Epochs')\n",
        "    ax3.set_ylabel('AUC')\n",
        "    ax3.legend(['training', 'validation'])\n",
        "    \n",
        "    ax4.plot(range(1, len(precision) + 1), precision)\n",
        "    ax4.plot(range(1, len(val_precision) + 1), val_precision)\n",
        "    ax4.set_title('History of Precision')\n",
        "    ax4.set_xlabel('Epochs')\n",
        "    ax4.set_ylabel('Precision')\n",
        "    ax4.legend(['training', 'validation'])\n",
        "    \n",
        "    ax5.plot(range(1, len(f1) + 1), f1)\n",
        "    ax5.plot(range(1, len(val_f1) + 1), val_f1)\n",
        "    ax5.set_title('History of F1-score')\n",
        "    ax5.set_xlabel('Epochs')\n",
        "    ax5.set_ylabel('F1 score')\n",
        "    ax5.legend(['training', 'validation'])\n",
        "\n",
        "\n",
        "    plt.show()\n",
        "    \n",
        "\n",
        "Train_Val_Plot(history.history['accuracy'],history.history['val_accuracy'],\n",
        "               history.history['loss'],history.history['val_loss'],\n",
        "               history.history['auc'],history.history['val_auc'],\n",
        "               history.history['precision'],history.history['val_precision'],\n",
        "               history.history['f1_score'],history.history['val_f1_score']\n",
        "              )"
      ],
      "execution_count": null,
      "outputs": [
        {
          "output_type": "display_data",
          "data": {
            "image/png": "[encoded data removed]",
            "text/plain": [
              "<Figure size 1440x360 with 5 Axes>"
            ]
          },
          "metadata": {
            "tags": [],
            "needs_background": "light"
          }
        }
      ]
    },
    {
      "cell_type": "code",
      "metadata": {
        "colab": {
          "base_uri": "https://localhost:8080/"
        },
        "id": "8paofaXqYh7m",
        "outputId": "25e7fa49-1e8f-4cc3-c182-c2c4d8df1d2a"
      },
      "source": [
        "scores = model.evaluate_generator(test_dataset)\n",
        "print(\"Accuracy = \", scores[1])\n",
        "print(\"Precision = \", scores[2])\n",
        "print(\"Recall = \", scores[3])\n",
        "print(\"AUC = \", scores[4])\n",
        "print(\"F1_score = \", scores[5])"
      ],
      "execution_count": null,
      "outputs": [
        {
          "output_type": "stream",
          "text": [
            "/usr/local/lib/python3.6/dist-packages/tensorflow/python/keras/engine/training.py:1877: UserWarning: `Model.evaluate_generator` is deprecated and will be removed in a future version. Please use `Model.evaluate`, which supports generators.\n",
            "  warnings.warn('`Model.evaluate_generator` is deprecated and '\n"
          ],
          "name": "stderr"
        },
        {
          "output_type": "stream",
          "text": [
            "Accuracy =  0.7621188163757324\n",
            "Precision =  0.5950919985771179\n",
            "Recall =  0.15168100595474243\n",
            "AUC =  0.7995991706848145\n",
            "F1_score =  0.2379501312971115\n"
          ],
          "name": "stdout"
        }
      ]
    },
    {
      "cell_type": "code",
      "metadata": {
        "id": "2HhI4E9cYfO7"
      },
      "source": [
        ""
      ],
      "execution_count": null,
      "outputs": []
    }
  ]
}