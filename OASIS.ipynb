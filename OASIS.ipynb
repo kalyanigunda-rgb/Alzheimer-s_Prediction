{
  "nbformat": 4,
  "nbformat_minor": 0,
  "metadata": {
    "colab": {
      "name": "OASIS.ipynb",
      "provenance": [],
      "collapsed_sections": []
    },
    "kernelspec": {
      "name": "python3",
      "display_name": "Python 3"
    }
  },
  "cells": [
    {
      "cell_type": "code",
      "metadata": {
        "colab": {
          "base_uri": "https://localhost:8080/",
          "height": 204
        },
        "id": "1N4DDb381zpe",
        "outputId": "bddc241a-5bb5-48b3-b0c1-478a77b02264"
      },
      "source": [
        "import pandas as pd\n",
        "data = pd.read_csv('oasis_longitudinal.csv')\n",
        "data.head(5)"
      ],
      "execution_count": null,
      "outputs": [
        {
          "output_type": "execute_result",
          "data": {
            "text/html": [
              "<div>\n",
              "<style scoped>\n",
              "    .dataframe tbody tr th:only-of-type {\n",
              "        vertical-align: middle;\n",
              "    }\n",
              "\n",
              "    .dataframe tbody tr th {\n",
              "        vertical-align: top;\n",
              "    }\n",
              "\n",
              "    .dataframe thead th {\n",
              "        text-align: right;\n",
              "    }\n",
              "</style>\n",
              "<table border=\"1\" class=\"dataframe\">\n",
              "  <thead>\n",
              "    <tr style=\"text-align: right;\">\n",
              "      <th></th>\n",
              "      <th>Subject ID</th>\n",
              "      <th>MRI ID</th>\n",
              "      <th>Group</th>\n",
              "      <th>Visit</th>\n",
              "      <th>MR Delay</th>\n",
              "      <th>M/F</th>\n",
              "      <th>Hand</th>\n",
              "      <th>Age</th>\n",
              "      <th>EDUC</th>\n",
              "      <th>SES</th>\n",
              "      <th>MMSE</th>\n",
              "      <th>CDR</th>\n",
              "      <th>eTIV</th>\n",
              "      <th>nWBV</th>\n",
              "      <th>ASF</th>\n",
              "    </tr>\n",
              "  </thead>\n",
              "  <tbody>\n",
              "    <tr>\n",
              "      <th>0</th>\n",
              "      <td>OAS2_0001</td>\n",
              "      <td>OAS2_0001_MR1</td>\n",
              "      <td>Nondemented</td>\n",
              "      <td>1</td>\n",
              "      <td>0</td>\n",
              "      <td>M</td>\n",
              "      <td>R</td>\n",
              "      <td>87</td>\n",
              "      <td>14</td>\n",
              "      <td>2.0</td>\n",
              "      <td>27.0</td>\n",
              "      <td>0.0</td>\n",
              "      <td>1987</td>\n",
              "      <td>0.696</td>\n",
              "      <td>0.883</td>\n",
              "    </tr>\n",
              "    <tr>\n",
              "      <th>1</th>\n",
              "      <td>OAS2_0001</td>\n",
              "      <td>OAS2_0001_MR2</td>\n",
              "      <td>Nondemented</td>\n",
              "      <td>2</td>\n",
              "      <td>457</td>\n",
              "      <td>M</td>\n",
              "      <td>R</td>\n",
              "      <td>88</td>\n",
              "      <td>14</td>\n",
              "      <td>2.0</td>\n",
              "      <td>30.0</td>\n",
              "      <td>0.0</td>\n",
              "      <td>2004</td>\n",
              "      <td>0.681</td>\n",
              "      <td>0.876</td>\n",
              "    </tr>\n",
              "    <tr>\n",
              "      <th>2</th>\n",
              "      <td>OAS2_0002</td>\n",
              "      <td>OAS2_0002_MR1</td>\n",
              "      <td>Demented</td>\n",
              "      <td>1</td>\n",
              "      <td>0</td>\n",
              "      <td>M</td>\n",
              "      <td>R</td>\n",
              "      <td>75</td>\n",
              "      <td>12</td>\n",
              "      <td>NaN</td>\n",
              "      <td>23.0</td>\n",
              "      <td>0.5</td>\n",
              "      <td>1678</td>\n",
              "      <td>0.736</td>\n",
              "      <td>1.046</td>\n",
              "    </tr>\n",
              "    <tr>\n",
              "      <th>3</th>\n",
              "      <td>OAS2_0002</td>\n",
              "      <td>OAS2_0002_MR2</td>\n",
              "      <td>Demented</td>\n",
              "      <td>2</td>\n",
              "      <td>560</td>\n",
              "      <td>M</td>\n",
              "      <td>R</td>\n",
              "      <td>76</td>\n",
              "      <td>12</td>\n",
              "      <td>NaN</td>\n",
              "      <td>28.0</td>\n",
              "      <td>0.5</td>\n",
              "      <td>1738</td>\n",
              "      <td>0.713</td>\n",
              "      <td>1.010</td>\n",
              "    </tr>\n",
              "    <tr>\n",
              "      <th>4</th>\n",
              "      <td>OAS2_0002</td>\n",
              "      <td>OAS2_0002_MR3</td>\n",
              "      <td>Demented</td>\n",
              "      <td>3</td>\n",
              "      <td>1895</td>\n",
              "      <td>M</td>\n",
              "      <td>R</td>\n",
              "      <td>80</td>\n",
              "      <td>12</td>\n",
              "      <td>NaN</td>\n",
              "      <td>22.0</td>\n",
              "      <td>0.5</td>\n",
              "      <td>1698</td>\n",
              "      <td>0.701</td>\n",
              "      <td>1.034</td>\n",
              "    </tr>\n",
              "  </tbody>\n",
              "</table>\n",
              "</div>"
            ],
            "text/plain": [
              "  Subject ID         MRI ID        Group  Visit  ...  CDR  eTIV   nWBV    ASF\n",
              "0  OAS2_0001  OAS2_0001_MR1  Nondemented      1  ...  0.0  1987  0.696  0.883\n",
              "1  OAS2_0001  OAS2_0001_MR2  Nondemented      2  ...  0.0  2004  0.681  0.876\n",
              "2  OAS2_0002  OAS2_0002_MR1     Demented      1  ...  0.5  1678  0.736  1.046\n",
              "3  OAS2_0002  OAS2_0002_MR2     Demented      2  ...  0.5  1738  0.713  1.010\n",
              "4  OAS2_0002  OAS2_0002_MR3     Demented      3  ...  0.5  1698  0.701  1.034\n",
              "\n",
              "[5 rows x 15 columns]"
            ]
          },
          "metadata": {
            "tags": []
          },
          "execution_count": 51
        }
      ]
    },
    {
      "cell_type": "code",
      "metadata": {
        "id": "12cZ8a0h7fGX"
      },
      "source": [
        "data = data.loc[data['Visit']==1] # use first visit data only because of the analysis we're doing\n",
        "data = data.reset_index(drop=True) # reset index after filtering first visit data\n",
        "data['M/F'] = data['M/F'].replace(['F','M'], [0,1]) # M/F column\n",
        "data['Group'] = data['Group'].replace(['Converted'], ['Demented']) # Target variable\n",
        "data['Group'] = data['Group'].replace(['Demented', 'Nondemented'], [1,0]) # Target variable\n",
        "data = data.drop(['MRI ID', 'Visit', 'Hand'], axis=1) # Drop unnecessary columns"
      ],
      "execution_count": null,
      "outputs": []
    },
    {
      "cell_type": "code",
      "metadata": {
        "colab": {
          "base_uri": "https://localhost:8080/"
        },
        "id": "PC3mtYF07fKG",
        "outputId": "e03c36ef-950e-47ae-ed6c-10a989b5f9fa"
      },
      "source": [
        "data.shape"
      ],
      "execution_count": null,
      "outputs": [
        {
          "output_type": "execute_result",
          "data": {
            "text/plain": [
              "(150, 12)"
            ]
          },
          "metadata": {
            "tags": []
          },
          "execution_count": 53
        }
      ]
    },
    {
      "cell_type": "code",
      "metadata": {
        "colab": {
          "base_uri": "https://localhost:8080/",
          "height": 204
        },
        "id": "4jkWZ8UV7fNz",
        "outputId": "d4e80793-1d89-41fe-a487-03f242439974"
      },
      "source": [
        "data.head(5)"
      ],
      "execution_count": null,
      "outputs": [
        {
          "output_type": "execute_result",
          "data": {
            "text/html": [
              "<div>\n",
              "<style scoped>\n",
              "    .dataframe tbody tr th:only-of-type {\n",
              "        vertical-align: middle;\n",
              "    }\n",
              "\n",
              "    .dataframe tbody tr th {\n",
              "        vertical-align: top;\n",
              "    }\n",
              "\n",
              "    .dataframe thead th {\n",
              "        text-align: right;\n",
              "    }\n",
              "</style>\n",
              "<table border=\"1\" class=\"dataframe\">\n",
              "  <thead>\n",
              "    <tr style=\"text-align: right;\">\n",
              "      <th></th>\n",
              "      <th>Subject ID</th>\n",
              "      <th>Group</th>\n",
              "      <th>MR Delay</th>\n",
              "      <th>M/F</th>\n",
              "      <th>Age</th>\n",
              "      <th>EDUC</th>\n",
              "      <th>SES</th>\n",
              "      <th>MMSE</th>\n",
              "      <th>CDR</th>\n",
              "      <th>eTIV</th>\n",
              "      <th>nWBV</th>\n",
              "      <th>ASF</th>\n",
              "    </tr>\n",
              "  </thead>\n",
              "  <tbody>\n",
              "    <tr>\n",
              "      <th>0</th>\n",
              "      <td>OAS2_0001</td>\n",
              "      <td>0</td>\n",
              "      <td>0</td>\n",
              "      <td>1</td>\n",
              "      <td>87</td>\n",
              "      <td>14</td>\n",
              "      <td>2.0</td>\n",
              "      <td>27.0</td>\n",
              "      <td>0.0</td>\n",
              "      <td>1987</td>\n",
              "      <td>0.696</td>\n",
              "      <td>0.883</td>\n",
              "    </tr>\n",
              "    <tr>\n",
              "      <th>1</th>\n",
              "      <td>OAS2_0002</td>\n",
              "      <td>1</td>\n",
              "      <td>0</td>\n",
              "      <td>1</td>\n",
              "      <td>75</td>\n",
              "      <td>12</td>\n",
              "      <td>NaN</td>\n",
              "      <td>23.0</td>\n",
              "      <td>0.5</td>\n",
              "      <td>1678</td>\n",
              "      <td>0.736</td>\n",
              "      <td>1.046</td>\n",
              "    </tr>\n",
              "    <tr>\n",
              "      <th>2</th>\n",
              "      <td>OAS2_0004</td>\n",
              "      <td>0</td>\n",
              "      <td>0</td>\n",
              "      <td>0</td>\n",
              "      <td>88</td>\n",
              "      <td>18</td>\n",
              "      <td>3.0</td>\n",
              "      <td>28.0</td>\n",
              "      <td>0.0</td>\n",
              "      <td>1215</td>\n",
              "      <td>0.710</td>\n",
              "      <td>1.444</td>\n",
              "    </tr>\n",
              "    <tr>\n",
              "      <th>3</th>\n",
              "      <td>OAS2_0005</td>\n",
              "      <td>0</td>\n",
              "      <td>0</td>\n",
              "      <td>1</td>\n",
              "      <td>80</td>\n",
              "      <td>12</td>\n",
              "      <td>4.0</td>\n",
              "      <td>28.0</td>\n",
              "      <td>0.0</td>\n",
              "      <td>1689</td>\n",
              "      <td>0.712</td>\n",
              "      <td>1.039</td>\n",
              "    </tr>\n",
              "    <tr>\n",
              "      <th>4</th>\n",
              "      <td>OAS2_0007</td>\n",
              "      <td>1</td>\n",
              "      <td>0</td>\n",
              "      <td>1</td>\n",
              "      <td>71</td>\n",
              "      <td>16</td>\n",
              "      <td>NaN</td>\n",
              "      <td>28.0</td>\n",
              "      <td>0.5</td>\n",
              "      <td>1357</td>\n",
              "      <td>0.748</td>\n",
              "      <td>1.293</td>\n",
              "    </tr>\n",
              "  </tbody>\n",
              "</table>\n",
              "</div>"
            ],
            "text/plain": [
              "  Subject ID  Group  MR Delay  M/F  Age  ...  MMSE  CDR  eTIV   nWBV    ASF\n",
              "0  OAS2_0001      0         0    1   87  ...  27.0  0.0  1987  0.696  0.883\n",
              "1  OAS2_0002      1         0    1   75  ...  23.0  0.5  1678  0.736  1.046\n",
              "2  OAS2_0004      0         0    0   88  ...  28.0  0.0  1215  0.710  1.444\n",
              "3  OAS2_0005      0         0    1   80  ...  28.0  0.0  1689  0.712  1.039\n",
              "4  OAS2_0007      1         0    1   71  ...  28.0  0.5  1357  0.748  1.293\n",
              "\n",
              "[5 rows x 12 columns]"
            ]
          },
          "metadata": {
            "tags": []
          },
          "execution_count": 54
        }
      ]
    },
    {
      "cell_type": "code",
      "metadata": {
        "colab": {
          "base_uri": "https://localhost:8080/",
          "height": 428
        },
        "id": "F4sPmz8c7fRM",
        "outputId": "6f4854de-f532-429f-8685-79f18562dc62"
      },
      "source": [
        "import matplotlib.pyplot as plt\n",
        "# bar drawing function\n",
        "def bar_chart(feature):\n",
        "    Demented = data[data['Group']==1][feature].value_counts()\n",
        "    Nondemented = data[data['Group']==0][feature].value_counts()\n",
        "    data_bar = pd.DataFrame([Demented,Nondemented])\n",
        "    data_bar.index = ['Demented','Nondemented']\n",
        "    data_bar.plot(kind='bar',stacked=True, figsize=(8,5))\n",
        "# Gender  and  Group ( Femal=0, Male=1)\n",
        "bar_chart('M/F')\n",
        "plt.xlabel('Group')\n",
        "plt.ylabel('Number of patients')\n",
        "plt.legend()\n",
        "plt.title('Gender and Demented rate')"
      ],
      "execution_count": null,
      "outputs": [
        {
          "output_type": "execute_result",
          "data": {
            "text/plain": [
              "Text(0.5, 1.0, 'Gender and Demented rate')"
            ]
          },
          "metadata": {
            "tags": []
          },
          "execution_count": 55
        },
        {
          "output_type": "display_data",
          "data": {
            "image/png": "[encoded data removed]",
            "text/plain": [
              "<Figure size 576x360 with 1 Axes>"
            ]
          },
          "metadata": {
            "tags": [],
            "needs_background": "light"
          }
        }
      ]
    },
    {
      "cell_type": "code",
      "metadata": {
        "colab": {
          "base_uri": "https://localhost:8080/",
          "height": 266
        },
        "id": "RvvOItmV7fU1",
        "outputId": "e29db56a-8ab6-4419-ee61-38b6fab836fa"
      },
      "source": [
        "features= data.iloc[:,5:12]\n",
        "var= features.var()\n",
        "std =  features.std()\n",
        "max=  features.max()\n",
        "min= features.min()\n",
        "mean= features.mean()\n",
        "median = features.median()\n",
        "pd.DataFrame({'features':['EDUC', 'SES', 'MMSE', 'CDR', 'eTIV', 'nWBV', 'ASF'],\n",
        "             'variance': var,\n",
        "              'std':std,\n",
        "              'max':max,\n",
        "              'min':min,\n",
        "              'mean':mean,\n",
        "              'median':median})"
      ],
      "execution_count": null,
      "outputs": [
        {
          "output_type": "execute_result",
          "data": {
            "text/html": [
              "<div>\n",
              "<style scoped>\n",
              "    .dataframe tbody tr th:only-of-type {\n",
              "        vertical-align: middle;\n",
              "    }\n",
              "\n",
              "    .dataframe tbody tr th {\n",
              "        vertical-align: top;\n",
              "    }\n",
              "\n",
              "    .dataframe thead th {\n",
              "        text-align: right;\n",
              "    }\n",
              "</style>\n",
              "<table border=\"1\" class=\"dataframe\">\n",
              "  <thead>\n",
              "    <tr style=\"text-align: right;\">\n",
              "      <th></th>\n",
              "      <th>features</th>\n",
              "      <th>variance</th>\n",
              "      <th>std</th>\n",
              "      <th>max</th>\n",
              "      <th>min</th>\n",
              "      <th>mean</th>\n",
              "      <th>median</th>\n",
              "    </tr>\n",
              "  </thead>\n",
              "  <tbody>\n",
              "    <tr>\n",
              "      <th>EDUC</th>\n",
              "      <td>EDUC</td>\n",
              "      <td>8.263982</td>\n",
              "      <td>2.874714</td>\n",
              "      <td>23.000</td>\n",
              "      <td>6.000</td>\n",
              "      <td>14.533333</td>\n",
              "      <td>14.0000</td>\n",
              "    </tr>\n",
              "    <tr>\n",
              "      <th>SES</th>\n",
              "      <td>SES</td>\n",
              "      <td>1.273000</td>\n",
              "      <td>1.128273</td>\n",
              "      <td>5.000</td>\n",
              "      <td>1.000</td>\n",
              "      <td>2.492958</td>\n",
              "      <td>2.0000</td>\n",
              "    </tr>\n",
              "    <tr>\n",
              "      <th>MMSE</th>\n",
              "      <td>MMSE</td>\n",
              "      <td>8.811812</td>\n",
              "      <td>2.968470</td>\n",
              "      <td>30.000</td>\n",
              "      <td>17.000</td>\n",
              "      <td>27.560000</td>\n",
              "      <td>29.0000</td>\n",
              "    </tr>\n",
              "    <tr>\n",
              "      <th>CDR</th>\n",
              "      <td>CDR</td>\n",
              "      <td>0.106443</td>\n",
              "      <td>0.326256</td>\n",
              "      <td>1.000</td>\n",
              "      <td>0.000</td>\n",
              "      <td>0.260000</td>\n",
              "      <td>0.0000</td>\n",
              "    </tr>\n",
              "    <tr>\n",
              "      <th>eTIV</th>\n",
              "      <td>eTIV</td>\n",
              "      <td>30514.461029</td>\n",
              "      <td>174.683889</td>\n",
              "      <td>1987.000</td>\n",
              "      <td>1123.000</td>\n",
              "      <td>1474.426667</td>\n",
              "      <td>1453.5000</td>\n",
              "    </tr>\n",
              "    <tr>\n",
              "      <th>nWBV</th>\n",
              "      <td>nWBV</td>\n",
              "      <td>0.001329</td>\n",
              "      <td>0.036458</td>\n",
              "      <td>0.837</td>\n",
              "      <td>0.660</td>\n",
              "      <td>0.736073</td>\n",
              "      <td>0.7350</td>\n",
              "    </tr>\n",
              "    <tr>\n",
              "      <th>ASF</th>\n",
              "      <td>ASF</td>\n",
              "      <td>0.019007</td>\n",
              "      <td>0.137864</td>\n",
              "      <td>1.563</td>\n",
              "      <td>0.883</td>\n",
              "      <td>1.206333</td>\n",
              "      <td>1.2075</td>\n",
              "    </tr>\n",
              "  </tbody>\n",
              "</table>\n",
              "</div>"
            ],
            "text/plain": [
              "     features      variance         std  ...       min         mean     median\n",
              "EDUC     EDUC      8.263982    2.874714  ...     6.000    14.533333    14.0000\n",
              "SES       SES      1.273000    1.128273  ...     1.000     2.492958     2.0000\n",
              "MMSE     MMSE      8.811812    2.968470  ...    17.000    27.560000    29.0000\n",
              "CDR       CDR      0.106443    0.326256  ...     0.000     0.260000     0.0000\n",
              "eTIV     eTIV  30514.461029  174.683889  ...  1123.000  1474.426667  1453.5000\n",
              "nWBV     nWBV      0.001329    0.036458  ...     0.660     0.736073     0.7350\n",
              "ASF       ASF      0.019007    0.137864  ...     0.883     1.206333     1.2075\n",
              "\n",
              "[7 rows x 7 columns]"
            ]
          },
          "metadata": {
            "tags": []
          },
          "execution_count": 56
        }
      ]
    },
    {
      "cell_type": "code",
      "metadata": {
        "colab": {
          "base_uri": "https://localhost:8080/"
        },
        "id": "7TgHA0lB7fYE",
        "outputId": "792ec4f9-58c1-4059-8389-09b5db2e4b27"
      },
      "source": [
        "#replace null values with their median for performance\n",
        "data[\"SES\"].fillna(data.groupby(\"EDUC\")[\"SES\"].transform(\"median\"), inplace=True)\n",
        "# I confirm there're no more missing values and all the 150 data were used.\n",
        "pd.isnull(data['SES']).value_counts()"
      ],
      "execution_count": null,
      "outputs": [
        {
          "output_type": "execute_result",
          "data": {
            "text/plain": [
              "False    150\n",
              "Name: SES, dtype: int64"
            ]
          },
          "metadata": {
            "tags": []
          },
          "execution_count": 57
        }
      ]
    },
    {
      "cell_type": "code",
      "metadata": {
        "id": "U1WqtSmr7fbv"
      },
      "source": [
        "#MODEL PERFORMANCE\n",
        "# Splitting Train/Validation/Test Sets\n",
        "from sklearn.model_selection import train_test_split\n",
        "from sklearn import preprocessing\n",
        "from sklearn.preprocessing import MinMaxScaler \n",
        "\n",
        "# Dataset with imputation\n",
        "Y = data['Group'].values # Target for the model\n",
        "X = data[['M/F', 'Age', 'EDUC', 'SES', 'MMSE', 'eTIV', 'nWBV', 'ASF']] # Features we use\n",
        "\n",
        "# splitting into three sets\n",
        "X_train, X_test, Y_train, Y_test = train_test_split(X, Y, test_size =0.25, random_state=0)\n",
        "\n",
        "# Feature scaling\n",
        "scaler = MinMaxScaler().fit(X_train)\n",
        "X_train_scaled = scaler.transform(X_train)\n",
        "X_test_scaled = scaler.transform(X_test)"
      ],
      "execution_count": null,
      "outputs": []
    },
    {
      "cell_type": "code",
      "metadata": {
        "colab": {
          "base_uri": "https://localhost:8080/"
        },
        "id": "zV7Qousv7fgl",
        "outputId": "bd9d6078-4a8a-4183-c27f-56fd0dd56650"
      },
      "source": [
        "from sklearn.naive_bayes import GaussianNB\n",
        "gaussian = GaussianNB()\n",
        "gaussian = gaussian.fit(X_train_scaled,Y_train)\n",
        "predicted = gaussian.predict(X_test_scaled)\n",
        "from sklearn import metrics\n",
        "from sklearn.metrics import confusion_matrix, classification_report,accuracy_score, recall_score, roc_curve, auc\n",
        "# Model Accuracy, how often is the classifier correct?\n",
        "print(\"Accuracy:\",metrics.accuracy_score(Y_test, predicted))\n",
        "print(\"classification_report is :\\n\",classification_report(Y_test, predicted)) # Full set accuracy\n",
        "print(\"confusion_matrix is \\n\", confusion_matrix(Y_test,predicted))"
      ],
      "execution_count": null,
      "outputs": [
        {
          "output_type": "stream",
          "text": [
            "Accuracy: 0.7894736842105263\n",
            "classification_report is :\n",
            "               precision    recall  f1-score   support\n",
            "\n",
            "           0       0.71      0.94      0.81        18\n",
            "           1       0.93      0.65      0.76        20\n",
            "\n",
            "    accuracy                           0.79        38\n",
            "   macro avg       0.82      0.80      0.79        38\n",
            "weighted avg       0.82      0.79      0.79        38\n",
            "\n",
            "confusion_matrix is \n",
            " [[17  1]\n",
            " [ 7 13]]\n"
          ],
          "name": "stdout"
        }
      ]
    },
    {
      "cell_type": "code",
      "metadata": {
        "colab": {
          "base_uri": "https://localhost:8080/"
        },
        "id": "vbCacfU37fxr",
        "outputId": "8eba51c4-c05b-484d-d9d0-661c62a60ca5"
      },
      "source": [
        "from sklearn.tree import DecisionTreeClassifier\n",
        " # Create Decision Tree classifer object\n",
        "clf = DecisionTreeClassifier()\n",
        "# Train Decision Tree Classifer\n",
        "clf = clf.fit(X_train_scaled,Y_train)\n",
        "\n",
        "#Predict the response for test dataset\n",
        "predicted = clf.predict(X_test_scaled)\n",
        "# Model Accuracy, how often is the classifier correct?\n",
        "print(\"Accuracy:\",metrics.accuracy_score(Y_test, predicted))\n",
        "print(\"classification_report is :\\n\",classification_report(Y_test, predicted)) # Full set accuracy\n",
        "print(\"confusion_matrix is \\n\", confusion_matrix(Y_test,predicted))"
      ],
      "execution_count": null,
      "outputs": [
        {
          "output_type": "stream",
          "text": [
            "Accuracy: 0.6842105263157895\n",
            "classification_report is :\n",
            "               precision    recall  f1-score   support\n",
            "\n",
            "           0       0.65      0.72      0.68        18\n",
            "           1       0.72      0.65      0.68        20\n",
            "\n",
            "    accuracy                           0.68        38\n",
            "   macro avg       0.69      0.69      0.68        38\n",
            "weighted avg       0.69      0.68      0.68        38\n",
            "\n",
            "confusion_matrix is \n",
            " [[13  5]\n",
            " [ 7 13]]\n"
          ],
          "name": "stdout"
        }
      ]
    },
    {
      "cell_type": "code",
      "metadata": {
        "colab": {
          "base_uri": "https://localhost:8080/"
        },
        "id": "t6bwKBjQ841m",
        "outputId": "5ba248f4-576a-4e0f-d1b1-67aeb9ad7978"
      },
      "source": [
        "pip install graphviz"
      ],
      "execution_count": null,
      "outputs": [
        {
          "output_type": "stream",
          "text": [
            "Requirement already satisfied: graphviz in /usr/local/lib/python3.7/dist-packages (0.10.1)\n"
          ],
          "name": "stdout"
        }
      ]
    },
    {
      "cell_type": "code",
      "metadata": {
        "colab": {
          "base_uri": "https://localhost:8080/"
        },
        "id": "Wxs27VOI7f2U",
        "outputId": "f5c10ffd-0935-49f1-b466-0636e1bd5e8e"
      },
      "source": [
        "#svm\n",
        "from sklearn.svm import SVC\n",
        "svc = SVC(kernel='linear')\n",
        "svc =svc .fit(X_train_scaled, Y_train)\n",
        "#Predict the response for test dataset\n",
        "predicted = svc.predict(X_test_scaled)\n",
        "# Model Accuracy, how often is the classifier correct?\n",
        "print(\"Accuracy:\",metrics.accuracy_score(Y_test, predicted))\n",
        "print(\"classification_report is :\\n\",classification_report(Y_test, predicted)) # Full set accuracy\n",
        "print(\"confusion_matrix is \\n\", confusion_matrix(Y_test,predicted))"
      ],
      "execution_count": null,
      "outputs": [
        {
          "output_type": "stream",
          "text": [
            "Accuracy: 0.7631578947368421\n",
            "classification_report is :\n",
            "               precision    recall  f1-score   support\n",
            "\n",
            "           0       0.70      0.89      0.78        18\n",
            "           1       0.87      0.65      0.74        20\n",
            "\n",
            "    accuracy                           0.76        38\n",
            "   macro avg       0.78      0.77      0.76        38\n",
            "weighted avg       0.79      0.76      0.76        38\n",
            "\n",
            "confusion_matrix is \n",
            " [[16  2]\n",
            " [ 7 13]]\n"
          ],
          "name": "stdout"
        }
      ]
    },
    {
      "cell_type": "code",
      "metadata": {
        "colab": {
          "base_uri": "https://localhost:8080/"
        },
        "id": "H9F4haiF7f6A",
        "outputId": "89e3d250-a553-4cf5-9749-608dfabe1dd8"
      },
      "source": [
        "#bagging\n",
        "from sklearn.ensemble import BaggingClassifier\n",
        "bagging = BaggingClassifier(base_estimator=SVC(kernel='poly',gamma=0.8), n_estimators=5, random_state=5)\n",
        "bagging = bagging.fit(X_train_scaled, Y_train)\n",
        "#Predict the response for test dataset\n",
        "predicted = svc.predict(X_test_scaled)\n",
        "# Model Accuracy, how often is the classifier correct?\n",
        "print(\"Accuracy:\",metrics.accuracy_score(Y_test, predicted))\n",
        "print(\"classification_report is :\\n\",classification_report(Y_test, predicted)) # Full set accuracy\n",
        "print(\"confusion_matrix is \\n\", confusion_matrix(Y_test,predicted))"
      ],
      "execution_count": null,
      "outputs": [
        {
          "output_type": "stream",
          "text": [
            "Accuracy: 0.7631578947368421\n",
            "classification_report is :\n",
            "               precision    recall  f1-score   support\n",
            "\n",
            "           0       0.70      0.89      0.78        18\n",
            "           1       0.87      0.65      0.74        20\n",
            "\n",
            "    accuracy                           0.76        38\n",
            "   macro avg       0.78      0.77      0.76        38\n",
            "weighted avg       0.79      0.76      0.76        38\n",
            "\n",
            "confusion_matrix is \n",
            " [[16  2]\n",
            " [ 7 13]]\n"
          ],
          "name": "stdout"
        }
      ]
    },
    {
      "cell_type": "code",
      "metadata": {
        "colab": {
          "base_uri": "https://localhost:8080/"
        },
        "id": "mUIxvf_h7f-s",
        "outputId": "f7c96a63-afaa-4cfa-dee0-be4b5778a9c7"
      },
      "source": [
        "from sklearn.ensemble import RandomForestClassifier\n",
        "#create random forest classifier and fit the values\n",
        "model= RandomForestClassifier(n_estimators=10, max_features=7, max_depth=5, random_state=0)\n",
        "rfclassifier = model.fit(X_train_scaled, Y_train )\n",
        "#Predict the response for test dataset\n",
        "predicted = rfclassifier.predict(X_test_scaled)\n",
        "# Model Accuracy, how often is the classifier correct?\n",
        "print(\"Accuracy:\",metrics.accuracy_score(Y_test, predicted))\n",
        "print(\"classification_report is :\\n\",classification_report(Y_test, predicted)) # Full set accuracy\n",
        "print(\"confusion_matrix is \\n\", confusion_matrix(Y_test,predicted))"
      ],
      "execution_count": null,
      "outputs": [
        {
          "output_type": "stream",
          "text": [
            "Accuracy: 0.868421052631579\n",
            "classification_report is :\n",
            "               precision    recall  f1-score   support\n",
            "\n",
            "           0       0.78      1.00      0.88        18\n",
            "           1       1.00      0.75      0.86        20\n",
            "\n",
            "    accuracy                           0.87        38\n",
            "   macro avg       0.89      0.88      0.87        38\n",
            "weighted avg       0.90      0.87      0.87        38\n",
            "\n",
            "confusion_matrix is \n",
            " [[18  0]\n",
            " [ 5 15]]\n"
          ],
          "name": "stdout"
        }
      ]
    },
    {
      "cell_type": "code",
      "metadata": {
        "colab": {
          "base_uri": "https://localhost:8080/"
        },
        "id": "XUG4SEbV7gDL",
        "outputId": "e016dd7f-a8e5-4da6-81aa-95c120f17ea5"
      },
      "source": [
        "from sklearn.ensemble import AdaBoostClassifier\n",
        "adaboost = AdaBoostClassifier(n_estimators=11, random_state=0)\n",
        "adaboost = adaboost.fit(X_train_scaled, Y_train)\n",
        "#Predict the response for test dataset\n",
        "predicted = adaboost.predict(X_test_scaled)\n",
        "# Model Accuracy, how often is the classifier correct?\n",
        "print(\"Accuracy:\",metrics.accuracy_score(Y_test, predicted))\n",
        "print(\"classification_report is :\\n\",classification_report(Y_test, predicted)) # Full set accuracy\n",
        "print(\"confusion_matrix is \\n\", confusion_matrix(Y_test,predicted))"
      ],
      "execution_count": null,
      "outputs": [
        {
          "output_type": "stream",
          "text": [
            "Accuracy: 0.8157894736842105\n",
            "classification_report is :\n",
            "               precision    recall  f1-score   support\n",
            "\n",
            "           0       0.72      1.00      0.84        18\n",
            "           1       1.00      0.65      0.79        20\n",
            "\n",
            "    accuracy                           0.82        38\n",
            "   macro avg       0.86      0.82      0.81        38\n",
            "weighted avg       0.87      0.82      0.81        38\n",
            "\n",
            "confusion_matrix is \n",
            " [[18  0]\n",
            " [ 7 13]]\n"
          ],
          "name": "stdout"
        }
      ]
    },
    {
      "cell_type": "code",
      "metadata": {
        "colab": {
          "base_uri": "https://localhost:8080/"
        },
        "id": "qvJgs4jM7gG3",
        "outputId": "c5fd485f-8e77-4599-e3fe-217bd8918fe4"
      },
      "source": [
        "from xgboost import  XGBClassifier\n",
        "model = XGBClassifier()\n",
        "model.fit(X_train_scaled, Y_train)\n",
        "# make predictions\n",
        "y_pred = model.predict(X_test_scaled)\n",
        "from sklearn import metrics\n",
        "# summarize the fit of the model\n",
        "print(\"XGB Classisifer : \")\n",
        "print(metrics.accuracy_score(Y_test, y_pred))\n",
        "print(metrics.classification_report(Y_test, y_pred))\n",
        "print(metrics.confusion_matrix(Y_test, y_pred))"
      ],
      "execution_count": null,
      "outputs": [
        {
          "output_type": "stream",
          "text": [
            "XGB Classisifer : \n",
            "0.7631578947368421\n",
            "              precision    recall  f1-score   support\n",
            "\n",
            "           0       0.71      0.83      0.77        18\n",
            "           1       0.82      0.70      0.76        20\n",
            "\n",
            "    accuracy                           0.76        38\n",
            "   macro avg       0.77      0.77      0.76        38\n",
            "weighted avg       0.77      0.76      0.76        38\n",
            "\n",
            "[[15  3]\n",
            " [ 6 14]]\n"
          ],
          "name": "stdout"
        }
      ]
    },
    {
      "cell_type": "code",
      "metadata": {
        "colab": {
          "base_uri": "https://localhost:8080/"
        },
        "id": "U97xbb_K7gLG",
        "outputId": "8c97a4d0-fcdf-486e-eb43-741ff560f82b"
      },
      "source": [
        "pip install googlenet-pytorch"
      ],
      "execution_count": null,
      "outputs": [
        {
          "output_type": "stream",
          "text": [
            "Collecting googlenet-pytorch\n",
            "  Downloading https://files.pythonhosted.org/packages/1d/f5/fae02c760929c3bd9974f570907fd3e13787c0857fa83316c6e8e3cf9bb1/googlenet_pytorch-0.3.0-py2.py3-none-any.whl\n",
            "Requirement already satisfied: torch in /usr/local/lib/python3.7/dist-packages (from googlenet-pytorch) (1.7.0+cu101)\n",
            "Requirement already satisfied: future in /usr/local/lib/python3.7/dist-packages (from torch->googlenet-pytorch) (0.16.0)\n",
            "Requirement already satisfied: dataclasses in /usr/local/lib/python3.7/dist-packages (from torch->googlenet-pytorch) (0.6)\n",
            "Requirement already satisfied: typing-extensions in /usr/local/lib/python3.7/dist-packages (from torch->googlenet-pytorch) (3.7.4.3)\n",
            "Requirement already satisfied: numpy in /usr/local/lib/python3.7/dist-packages (from torch->googlenet-pytorch) (1.19.5)\n",
            "Installing collected packages: googlenet-pytorch\n",
            "Successfully installed googlenet-pytorch-0.3.0\n"
          ],
          "name": "stdout"
        }
      ]
    },
    {
      "cell_type": "code",
      "metadata": {
        "colab": {
          "base_uri": "https://localhost:8080/"
        },
        "id": "WXv0APwc2Dl2",
        "outputId": "644e15e1-2e3e-4ed3-e6f4-23e41e4cfdae"
      },
      "source": [
        "#replace null values with their median for performance\n",
        "data[\"SES\"].fillna(data.groupby(\"EDUC\")[\"SES\"].transform(\"median\"), inplace=True)\n",
        "# I confirm there're no more missing values and all the 150 data were used.\n",
        "pd.isnull(data['SES']).value_counts()"
      ],
      "execution_count": null,
      "outputs": [
        {
          "output_type": "execute_result",
          "data": {
            "text/plain": [
              "False    150\n",
              "Name: SES, dtype: int64"
            ]
          },
          "metadata": {
            "tags": []
          },
          "execution_count": 2
        }
      ]
    },
    {
      "cell_type": "code",
      "metadata": {
        "id": "JeNcLt_M2FKn"
      },
      "source": [
        "#MODEL PERFORMANCE\n",
        "# Splitting Train/Validation/Test Sets\n",
        "from sklearn.model_selection import train_test_split\n",
        "from sklearn import preprocessing\n",
        "from sklearn.preprocessing import MinMaxScaler,StandardScaler\n",
        "\n",
        "# Dataset with imputation\n",
        "Y = data['Group'].values # Target for the model\n",
        "X = data[['M/F', 'Age', 'EDUC', 'SES', 'MMSE', 'eTIV', 'nWBV', 'ASF']] # Features we use\n",
        "\n",
        "# splitting into three sets\n",
        "X_train, X_test, Y_train, Y_test = train_test_split(X, Y, test_size =0.25, random_state=1)\n",
        "\n",
        "# Feature scaling\n",
        "scaler = MinMaxScaler().fit(X_train)\n",
        "#scaler = StandardScaler().fit(X_train)\n",
        "X_train_scaled = scaler.transform(X_train)\n",
        "X_test_scaled = scaler.transform(X_test)\n"
      ],
      "execution_count": null,
      "outputs": []
    },
    {
      "cell_type": "code",
      "metadata": {
        "colab": {
          "base_uri": "https://localhost:8080/"
        },
        "id": "M4LKscFr7Rot",
        "outputId": "04783488-3ee7-41ab-bddd-b09fad21bfd5"
      },
      "source": [
        "from xgboost import  XGBClassifier\n",
        "model = XGBClassifier()\n",
        "X_train = model.fit(X_train_scaled, Y_train)\n",
        "# make predictions\n",
        "y_pred = model.predict(X_test_scaled)\n",
        "from sklearn import metrics\n",
        "# summarize the fit of the model\n",
        "print(\"XGB Classisifer : \")\n",
        "print(metrics.accuracy_score(Y_test, y_pred))\n",
        "print(metrics.classification_report(Y_test, y_pred))\n",
        "print(metrics.confusion_matrix(Y_test, y_pred))"
      ],
      "execution_count": null,
      "outputs": [
        {
          "output_type": "stream",
          "text": [
            "XGB Classisifer : \n",
            "0.7631578947368421\n",
            "              precision    recall  f1-score   support\n",
            "\n",
            "           0       0.71      0.83      0.77        18\n",
            "           1       0.82      0.70      0.76        20\n",
            "\n",
            "    accuracy                           0.76        38\n",
            "   macro avg       0.77      0.77      0.76        38\n",
            "weighted avg       0.77      0.76      0.76        38\n",
            "\n",
            "[[15  3]\n",
            " [ 6 14]]\n"
          ],
          "name": "stdout"
        }
      ]
    },
    {
      "cell_type": "code",
      "metadata": {
        "colab": {
          "base_uri": "https://localhost:8080/"
        },
        "id": "cVHxGQct7Di2",
        "outputId": "1310f90b-6992-487b-cff7-1f51d80fbaf9"
      },
      "source": [
        "# Import necessary modules \n",
        "from sklearn.neighbors import KNeighborsClassifier \n",
        "knn = KNeighborsClassifier(n_neighbors=7) \n",
        "  \n",
        "knn.fit(X_train_scaled, Y_train) \n",
        "  \n",
        "# Predict on dataset which model has not seen before \n",
        "print(knn.predict(X_test_scaled)) \n",
        "y_pred = knn.predict(X_test_scaled)\n",
        "print(metrics.accuracy_score(Y_test, y_pred))\n",
        "print(metrics.classification_report(Y_test, y_pred))\n",
        "print(metrics.confusion_matrix(Y_test, y_pred))"
      ],
      "execution_count": null,
      "outputs": [
        {
          "output_type": "stream",
          "text": [
            "[1 0 0 0 1 1 1 0 0 1 1 0 1 0 0 1 1 1 0 0 0 1 1 1 0 1 0 0 0 0 1 0 0 1 1 1 1\n",
            " 1]\n",
            "0.7105263157894737\n",
            "              precision    recall  f1-score   support\n",
            "\n",
            "           0       0.72      0.68      0.70        19\n",
            "           1       0.70      0.74      0.72        19\n",
            "\n",
            "    accuracy                           0.71        38\n",
            "   macro avg       0.71      0.71      0.71        38\n",
            "weighted avg       0.71      0.71      0.71        38\n",
            "\n",
            "[[13  6]\n",
            " [ 5 14]]\n"
          ],
          "name": "stdout"
        }
      ]
    },
    {
      "cell_type": "code",
      "metadata": {
        "colab": {
          "base_uri": "https://localhost:8080/"
        },
        "id": "fB1f72tD6P0D",
        "outputId": "24f2996e-9208-44b3-8ee6-20db85eafd2d"
      },
      "source": [
        "# Import necessary modules \n",
        "from sklearn.neighbors import KNeighborsClassifier \n",
        "knn = KNeighborsClassifier(n_neighbors=7) \n",
        "knn = knn.fit(X_train, Y_train) \n",
        "  \n",
        "# Predict on dataset which model has not seen before \n",
        "y_pred = knn.predict(X_test)\n",
        "print(metrics.accuracy_score(Y_test, y_pred))\n",
        "print(metrics.classification_report(Y_test, y_pred))\n",
        "print(metrics.confusion_matrix(Y_test, y_pred))"
      ],
      "execution_count": null,
      "outputs": [
        {
          "output_type": "stream",
          "text": [
            "0.5526315789473685\n",
            "              precision    recall  f1-score   support\n",
            "\n",
            "           0       0.58      0.37      0.45        19\n",
            "           1       0.54      0.74      0.62        19\n",
            "\n",
            "    accuracy                           0.55        38\n",
            "   macro avg       0.56      0.55      0.54        38\n",
            "weighted avg       0.56      0.55      0.54        38\n",
            "\n",
            "[[ 7 12]\n",
            " [ 5 14]]\n"
          ],
          "name": "stdout"
        }
      ]
    },
    {
      "cell_type": "code",
      "metadata": {
        "colab": {
          "base_uri": "https://localhost:8080/"
        },
        "id": "D7eb-Fki6P9d",
        "outputId": "48a0206a-811a-49c4-a395-16d96cf00b49"
      },
      "source": [
        "from sklearn.ensemble import RandomForestClassifier\n",
        "\n",
        "classifier = RandomForestClassifier(max_depth=2, random_state=1)\n",
        "\n",
        "classifier.fit(X_train_scaled, Y_train)\n",
        "y_pred = classifier.predict(X_test_scaled)\n",
        "\n",
        "from sklearn.metrics import confusion_matrix\n",
        "from sklearn.metrics import accuracy_score\n",
        "\n",
        "cm = confusion_matrix(Y_test, y_pred)\n",
        "print(cm)\n",
        "print('Accuracy' + str(accuracy_score(Y_test, y_pred)))\n",
        "print(metrics.accuracy_score(Y_test, y_pred))\n",
        "print(metrics.classification_report(Y_test, y_pred))"
      ],
      "execution_count": null,
      "outputs": [
        {
          "output_type": "stream",
          "text": [
            "[[18  1]\n",
            " [ 6 13]]\n",
            "Accuracy0.8157894736842105\n",
            "0.8157894736842105\n",
            "              precision    recall  f1-score   support\n",
            "\n",
            "           0       0.75      0.95      0.84        19\n",
            "           1       0.93      0.68      0.79        19\n",
            "\n",
            "    accuracy                           0.82        38\n",
            "   macro avg       0.84      0.82      0.81        38\n",
            "weighted avg       0.84      0.82      0.81        38\n",
            "\n"
          ],
          "name": "stdout"
        }
      ]
    },
    {
      "cell_type": "code",
      "metadata": {
        "colab": {
          "base_uri": "https://localhost:8080/"
        },
        "id": "u_r5-aXU5gP-",
        "outputId": "07ab2719-753f-436e-a064-7527102d68a8"
      },
      "source": [
        "from sklearn.discriminant_analysis import LinearDiscriminantAnalysis as LDA\n",
        "\n",
        "lda = LDA(n_components=1)\n",
        "X_train = lda.fit_transform(X_train, Y_train)\n",
        "X_test = lda.transform(X_test)\n",
        "from sklearn.ensemble import RandomForestClassifier\n",
        "\n",
        "classifier = RandomForestClassifier(max_depth=2, random_state=0)\n",
        "\n",
        "classifier.fit(X_train, Y_train)\n",
        "y_pred = classifier.predict(X_test)\n",
        "\n",
        "from sklearn.metrics import confusion_matrix\n",
        "from sklearn.metrics import accuracy_score\n",
        "\n",
        "cm = confusion_matrix(Y_test, y_pred)\n",
        "print(cm)\n",
        "print('Accuracy' + str(accuracy_score(Y_test, y_pred)))\n",
        "print(metrics.accuracy_score(Y_test, y_pred))\n",
        "print(metrics.classification_report(Y_test, y_pred))"
      ],
      "execution_count": null,
      "outputs": [
        {
          "output_type": "stream",
          "text": [
            "[[17  2]\n",
            " [ 6 13]]\n",
            "Accuracy0.7894736842105263\n",
            "0.7894736842105263\n",
            "              precision    recall  f1-score   support\n",
            "\n",
            "           0       0.74      0.89      0.81        19\n",
            "           1       0.87      0.68      0.76        19\n",
            "\n",
            "    accuracy                           0.79        38\n",
            "   macro avg       0.80      0.79      0.79        38\n",
            "weighted avg       0.80      0.79      0.79        38\n",
            "\n"
          ],
          "name": "stdout"
        }
      ]
    },
    {
      "cell_type": "code",
      "metadata": {
        "colab": {
          "base_uri": "https://localhost:8080/"
        },
        "id": "fVLcEYoF4ttt",
        "outputId": "6f041dab-9be5-4608-8201-e7923cf75e9c"
      },
      "source": [
        "from sklearn.neural_network import MLPClassifier\n",
        "clf =  MLPClassifier()\n",
        "clf.fit(X_train_scaled,Y_train)\n",
        "y_pred= clf.predict(X_test_scaled)\n",
        "\n",
        "print(\"MLP Classisifer : \")\n",
        "print(metrics.accuracy_score(Y_test, y_pred))\n",
        "print(metrics.classification_report(Y_test, y_pred))\n",
        "print(metrics.confusion_matrix(Y_test, y_pred))"
      ],
      "execution_count": null,
      "outputs": [
        {
          "output_type": "stream",
          "text": [
            "MLP Classisifer : \n",
            "0.7368421052631579\n",
            "              precision    recall  f1-score   support\n",
            "\n",
            "           0       0.76      0.68      0.72        19\n",
            "           1       0.71      0.79      0.75        19\n",
            "\n",
            "    accuracy                           0.74        38\n",
            "   macro avg       0.74      0.74      0.74        38\n",
            "weighted avg       0.74      0.74      0.74        38\n",
            "\n",
            "[[13  6]\n",
            " [ 4 15]]\n"
          ],
          "name": "stdout"
        },
        {
          "output_type": "stream",
          "text": [
            "/usr/local/lib/python3.7/dist-packages/sklearn/neural_network/_multilayer_perceptron.py:571: ConvergenceWarning: Stochastic Optimizer: Maximum iterations (200) reached and the optimization hasn't converged yet.\n",
            "  % self.max_iter, ConvergenceWarning)\n"
          ],
          "name": "stderr"
        }
      ]
    },
    {
      "cell_type": "code",
      "metadata": {
        "colab": {
          "base_uri": "https://localhost:8080/"
        },
        "id": "kToc9JiU38LF",
        "outputId": "a81e9073-3436-4fc6-8d24-7504273a260e"
      },
      "source": [
        "from sklearn.linear_model import LogisticRegression\n",
        "logreg = LogisticRegression()\n",
        "logreg = logreg.fit(X_train_scaled,Y_train)\n",
        "y_pred= logreg.predict(X_test_scaled)\n",
        "from sklearn.metrics import confusion_matrix\n",
        "from sklearn.metrics import accuracy_score\n",
        "from sklearn import metrics\n",
        "print(metrics.accuracy_score(Y_test, y_pred))\n",
        "print(metrics.classification_report(Y_test, y_pred))"
      ],
      "execution_count": null,
      "outputs": [
        {
          "output_type": "stream",
          "text": [
            "0.868421052631579\n",
            "              precision    recall  f1-score   support\n",
            "\n",
            "           0       0.89      0.84      0.86        19\n",
            "           1       0.85      0.89      0.87        19\n",
            "\n",
            "    accuracy                           0.87        38\n",
            "   macro avg       0.87      0.87      0.87        38\n",
            "weighted avg       0.87      0.87      0.87        38\n",
            "\n"
          ],
          "name": "stdout"
        }
      ]
    },
    {
      "cell_type": "code",
      "metadata": {
        "id": "IWYbWEMo38PJ"
      },
      "source": [
        ""
      ],
      "execution_count": null,
      "outputs": []
    },
    {
      "cell_type": "code",
      "metadata": {
        "id": "HhOeNLjN38TC"
      },
      "source": [
        ""
      ],
      "execution_count": null,
      "outputs": []
    },
    {
      "cell_type": "code",
      "metadata": {
        "id": "UD-f4qMj38W2"
      },
      "source": [
        ""
      ],
      "execution_count": null,
      "outputs": []
    },
    {
      "cell_type": "code",
      "metadata": {
        "id": "raofJulx38aQ"
      },
      "source": [
        ""
      ],
      "execution_count": null,
      "outputs": []
    },
    {
      "cell_type": "code",
      "metadata": {
        "id": "oG7avhnr38dM"
      },
      "source": [
        ""
      ],
      "execution_count": null,
      "outputs": []
    },
    {
      "cell_type": "code",
      "metadata": {
        "id": "v9YYj-oD38hP"
      },
      "source": [
        ""
      ],
      "execution_count": null,
      "outputs": []
    },
    {
      "cell_type": "code",
      "metadata": {
        "id": "-W9FM4Zr38kJ"
      },
      "source": [
        ""
      ],
      "execution_count": null,
      "outputs": []
    },
    {
      "cell_type": "code",
      "metadata": {
        "id": "AvcCTAMZ2KC1"
      },
      "source": [
        "import numpy as np # linear algebra\n",
        "import pandas as pd # data processing, CSV file I/O (e.g. pd.read_csv)\n",
        "from keras.models import Sequential\n",
        "from keras.layers import Dense\n",
        "from keras.layers import Dropout\n",
        "from keras.layers import Flatten\n",
        "from keras.layers.convolutional import Convolution2D\n",
        "from keras.layers.convolutional import MaxPooling2D\n",
        "from sklearn.preprocessing import LabelEncoder,OneHotEncoder\n",
        "from keras import backend as K\n",
        "from sklearn.metrics import confusion_matrix, classification_report"
      ],
      "execution_count": null,
      "outputs": []
    },
    {
      "cell_type": "code",
      "metadata": {
        "colab": {
          "base_uri": "https://localhost:8080/"
        },
        "id": "QClZN9TH2fwP",
        "outputId": "b9351139-227a-4c49-f3b3-885d55fc3af2"
      },
      "source": [
        "# define the keras model\n",
        "model = Sequential()\n",
        "model.add(Dense(12, input_dim=8, activation='relu'))\n",
        "model.add(Dense(8, activation='relu'))\n",
        "model.add(Dense(1, activation='sigmoid'))\n",
        "# compile the keras model\n",
        "model.compile(loss='binary_crossentropy', optimizer='adam', metrics=['accuracy'])\n",
        "# fit the keras model on the dataset\n",
        "model.fit(X_train_scaled, Y_train, epochs=150)\n",
        "# evaluate the keras model\n",
        "_, accuracy = model.evaluate(X_train_scaled, Y_train)\n",
        "print('Accuracy: %.2f' % (accuracy))"
      ],
      "execution_count": null,
      "outputs": [
        {
          "output_type": "stream",
          "text": [
            "Epoch 1/150\n",
            "4/4 [==============================] - 1s 4ms/step - loss: 0.7960 - accuracy: 0.4551\n",
            "Epoch 2/150\n",
            "4/4 [==============================] - 0s 4ms/step - loss: 0.7624 - accuracy: 0.4598\n",
            "Epoch 3/150\n",
            "4/4 [==============================] - 0s 4ms/step - loss: 0.7760 - accuracy: 0.4458\n",
            "Epoch 4/150\n",
            "4/4 [==============================] - 0s 4ms/step - loss: 0.7401 - accuracy: 0.4385\n",
            "Epoch 5/150\n",
            "4/4 [==============================] - 0s 4ms/step - loss: 0.7190 - accuracy: 0.4504\n",
            "Epoch 6/150\n",
            "4/4 [==============================] - 0s 4ms/step - loss: 0.7192 - accuracy: 0.4504\n",
            "Epoch 7/150\n",
            "4/4 [==============================] - 0s 4ms/step - loss: 0.7238 - accuracy: 0.4110\n",
            "Epoch 8/150\n",
            "4/4 [==============================] - 0s 4ms/step - loss: 0.7083 - accuracy: 0.4436\n",
            "Epoch 9/150\n",
            "4/4 [==============================] - 0s 4ms/step - loss: 0.6904 - accuracy: 0.4405\n",
            "Epoch 10/150\n",
            "4/4 [==============================] - 0s 6ms/step - loss: 0.6915 - accuracy: 0.4412\n",
            "Epoch 11/150\n",
            "4/4 [==============================] - 0s 4ms/step - loss: 0.6697 - accuracy: 0.4946\n",
            "Epoch 12/150\n",
            "4/4 [==============================] - 0s 5ms/step - loss: 0.6523 - accuracy: 0.5217\n",
            "Epoch 13/150\n",
            "4/4 [==============================] - 0s 4ms/step - loss: 0.6323 - accuracy: 0.5624\n",
            "Epoch 14/150\n",
            "4/4 [==============================] - 0s 4ms/step - loss: 0.6374 - accuracy: 0.5568\n",
            "Epoch 15/150\n",
            "4/4 [==============================] - 0s 4ms/step - loss: 0.6552 - accuracy: 0.5513\n",
            "Epoch 16/150\n",
            "4/4 [==============================] - 0s 4ms/step - loss: 0.6130 - accuracy: 0.6539\n",
            "Epoch 17/150\n",
            "4/4 [==============================] - 0s 4ms/step - loss: 0.6305 - accuracy: 0.5918\n",
            "Epoch 18/150\n",
            "4/4 [==============================] - 0s 4ms/step - loss: 0.6273 - accuracy: 0.6311\n",
            "Epoch 19/150\n",
            "4/4 [==============================] - 0s 4ms/step - loss: 0.6076 - accuracy: 0.6774\n",
            "Epoch 20/150\n",
            "4/4 [==============================] - 0s 5ms/step - loss: 0.6146 - accuracy: 0.6802\n",
            "Epoch 21/150\n",
            "4/4 [==============================] - 0s 7ms/step - loss: 0.6281 - accuracy: 0.6667\n",
            "Epoch 22/150\n",
            "4/4 [==============================] - 0s 4ms/step - loss: 0.5963 - accuracy: 0.7098\n",
            "Epoch 23/150\n",
            "4/4 [==============================] - 0s 4ms/step - loss: 0.6018 - accuracy: 0.6957\n",
            "Epoch 24/150\n",
            "4/4 [==============================] - 0s 4ms/step - loss: 0.5951 - accuracy: 0.6982\n",
            "Epoch 25/150\n",
            "4/4 [==============================] - 0s 4ms/step - loss: 0.5579 - accuracy: 0.7680\n",
            "Epoch 26/150\n",
            "4/4 [==============================] - 0s 4ms/step - loss: 0.5839 - accuracy: 0.7423\n",
            "Epoch 27/150\n",
            "4/4 [==============================] - 0s 4ms/step - loss: 0.5848 - accuracy: 0.7506\n",
            "Epoch 28/150\n",
            "4/4 [==============================] - 0s 4ms/step - loss: 0.5741 - accuracy: 0.7464\n",
            "Epoch 29/150\n",
            "4/4 [==============================] - 0s 4ms/step - loss: 0.5690 - accuracy: 0.7564\n",
            "Epoch 30/150\n",
            "4/4 [==============================] - 0s 9ms/step - loss: 0.5791 - accuracy: 0.7241\n",
            "Epoch 31/150\n",
            "4/4 [==============================] - 0s 7ms/step - loss: 0.5885 - accuracy: 0.7298\n",
            "Epoch 32/150\n",
            "4/4 [==============================] - 0s 6ms/step - loss: 0.5924 - accuracy: 0.7141\n",
            "Epoch 33/150\n",
            "4/4 [==============================] - 0s 8ms/step - loss: 0.5820 - accuracy: 0.7162\n",
            "Epoch 34/150\n",
            "4/4 [==============================] - 0s 4ms/step - loss: 0.5768 - accuracy: 0.7344\n",
            "Epoch 35/150\n",
            "4/4 [==============================] - 0s 4ms/step - loss: 0.5554 - accuracy: 0.7719\n",
            "Epoch 36/150\n",
            "4/4 [==============================] - 0s 4ms/step - loss: 0.5554 - accuracy: 0.7760\n",
            "Epoch 37/150\n",
            "4/4 [==============================] - 0s 4ms/step - loss: 0.5652 - accuracy: 0.7577\n",
            "Epoch 38/150\n",
            "4/4 [==============================] - 0s 4ms/step - loss: 0.5509 - accuracy: 0.7708\n",
            "Epoch 39/150\n",
            "4/4 [==============================] - 0s 4ms/step - loss: 0.5600 - accuracy: 0.7448\n",
            "Epoch 40/150\n",
            "4/4 [==============================] - 0s 4ms/step - loss: 0.5473 - accuracy: 0.7542\n",
            "Epoch 41/150\n",
            "4/4 [==============================] - 0s 4ms/step - loss: 0.5285 - accuracy: 0.7719\n",
            "Epoch 42/150\n",
            "4/4 [==============================] - 0s 6ms/step - loss: 0.5656 - accuracy: 0.7235\n",
            "Epoch 43/150\n",
            "4/4 [==============================] - 0s 4ms/step - loss: 0.5390 - accuracy: 0.7391\n",
            "Epoch 44/150\n",
            "4/4 [==============================] - 0s 4ms/step - loss: 0.5498 - accuracy: 0.7350\n",
            "Epoch 45/150\n",
            "4/4 [==============================] - 0s 4ms/step - loss: 0.5369 - accuracy: 0.7417\n",
            "Epoch 46/150\n",
            "4/4 [==============================] - 0s 6ms/step - loss: 0.5273 - accuracy: 0.7729\n",
            "Epoch 47/150\n",
            "4/4 [==============================] - 0s 4ms/step - loss: 0.5382 - accuracy: 0.7531\n",
            "Epoch 48/150\n",
            "4/4 [==============================] - 0s 4ms/step - loss: 0.5505 - accuracy: 0.7375\n",
            "Epoch 49/150\n",
            "4/4 [==============================] - 0s 4ms/step - loss: 0.5257 - accuracy: 0.7688\n",
            "Epoch 50/150\n",
            "4/4 [==============================] - 0s 4ms/step - loss: 0.5191 - accuracy: 0.7635\n",
            "Epoch 51/150\n",
            "4/4 [==============================] - 0s 9ms/step - loss: 0.5154 - accuracy: 0.7375\n",
            "Epoch 52/150\n",
            "4/4 [==============================] - 0s 4ms/step - loss: 0.5225 - accuracy: 0.7546\n",
            "Epoch 53/150\n",
            "4/4 [==============================] - 0s 5ms/step - loss: 0.5129 - accuracy: 0.7661\n",
            "Epoch 54/150\n",
            "4/4 [==============================] - 0s 5ms/step - loss: 0.5251 - accuracy: 0.7567\n",
            "Epoch 55/150\n",
            "4/4 [==============================] - 0s 4ms/step - loss: 0.5422 - accuracy: 0.7202\n",
            "Epoch 56/150\n",
            "4/4 [==============================] - 0s 4ms/step - loss: 0.5329 - accuracy: 0.7156\n",
            "Epoch 57/150\n",
            "4/4 [==============================] - 0s 9ms/step - loss: 0.5044 - accuracy: 0.7500\n",
            "Epoch 58/150\n",
            "4/4 [==============================] - 0s 7ms/step - loss: 0.4937 - accuracy: 0.7635\n",
            "Epoch 59/150\n",
            "4/4 [==============================] - 0s 4ms/step - loss: 0.5050 - accuracy: 0.7381\n",
            "Epoch 60/150\n",
            "4/4 [==============================] - 0s 4ms/step - loss: 0.5349 - accuracy: 0.7079\n",
            "Epoch 61/150\n",
            "4/4 [==============================] - 0s 4ms/step - loss: 0.4965 - accuracy: 0.7277\n",
            "Epoch 62/150\n",
            "4/4 [==============================] - 0s 4ms/step - loss: 0.4927 - accuracy: 0.7256\n",
            "Epoch 63/150\n",
            "4/4 [==============================] - 0s 4ms/step - loss: 0.4656 - accuracy: 0.7984\n",
            "Epoch 64/150\n",
            "4/4 [==============================] - 0s 5ms/step - loss: 0.4500 - accuracy: 0.8004\n",
            "Epoch 65/150\n",
            "4/4 [==============================] - 0s 4ms/step - loss: 0.5115 - accuracy: 0.7192\n",
            "Epoch 66/150\n",
            "4/4 [==============================] - 0s 4ms/step - loss: 0.4808 - accuracy: 0.7790\n",
            "Epoch 67/150\n",
            "4/4 [==============================] - 0s 5ms/step - loss: 0.4705 - accuracy: 0.7696\n",
            "Epoch 68/150\n",
            "4/4 [==============================] - 0s 7ms/step - loss: 0.4578 - accuracy: 0.8003\n",
            "Epoch 69/150\n",
            "4/4 [==============================] - 0s 6ms/step - loss: 0.4910 - accuracy: 0.7690\n",
            "Epoch 70/150\n",
            "4/4 [==============================] - 0s 5ms/step - loss: 0.4400 - accuracy: 0.8024\n",
            "Epoch 71/150\n",
            "4/4 [==============================] - 0s 5ms/step - loss: 0.4741 - accuracy: 0.7826\n",
            "Epoch 72/150\n",
            "4/4 [==============================] - 0s 5ms/step - loss: 0.4827 - accuracy: 0.7586\n",
            "Epoch 73/150\n",
            "4/4 [==============================] - 0s 5ms/step - loss: 0.4546 - accuracy: 0.7993\n",
            "Epoch 74/150\n",
            "4/4 [==============================] - 0s 6ms/step - loss: 0.4414 - accuracy: 0.7836\n",
            "Epoch 75/150\n",
            "4/4 [==============================] - 0s 4ms/step - loss: 0.4821 - accuracy: 0.7732\n",
            "Epoch 76/150\n",
            "4/4 [==============================] - 0s 4ms/step - loss: 0.4424 - accuracy: 0.7909\n",
            "Epoch 77/150\n",
            "4/4 [==============================] - 0s 4ms/step - loss: 0.4424 - accuracy: 0.7815\n",
            "Epoch 78/150\n",
            "4/4 [==============================] - 0s 4ms/step - loss: 0.4464 - accuracy: 0.7576\n",
            "Epoch 79/150\n",
            "4/4 [==============================] - 0s 5ms/step - loss: 0.4368 - accuracy: 0.7961\n",
            "Epoch 80/150\n",
            "4/4 [==============================] - 0s 4ms/step - loss: 0.4548 - accuracy: 0.7888\n",
            "Epoch 81/150\n",
            "4/4 [==============================] - 0s 5ms/step - loss: 0.4392 - accuracy: 0.7795\n",
            "Epoch 82/150\n",
            "4/4 [==============================] - 0s 6ms/step - loss: 0.4455 - accuracy: 0.7847\n",
            "Epoch 83/150\n",
            "4/4 [==============================] - 0s 5ms/step - loss: 0.4315 - accuracy: 0.7795\n",
            "Epoch 84/150\n",
            "4/4 [==============================] - 0s 5ms/step - loss: 0.4241 - accuracy: 0.8065\n",
            "Epoch 85/150\n",
            "4/4 [==============================] - 0s 5ms/step - loss: 0.4285 - accuracy: 0.7586\n",
            "Epoch 86/150\n",
            "4/4 [==============================] - 0s 5ms/step - loss: 0.4519 - accuracy: 0.7699\n",
            "Epoch 87/150\n",
            "4/4 [==============================] - 0s 5ms/step - loss: 0.4487 - accuracy: 0.7970\n",
            "Epoch 88/150\n",
            "4/4 [==============================] - 0s 4ms/step - loss: 0.4485 - accuracy: 0.7866\n",
            "Epoch 89/150\n",
            "4/4 [==============================] - 0s 4ms/step - loss: 0.4417 - accuracy: 0.7824\n",
            "Epoch 90/150\n",
            "4/4 [==============================] - 0s 4ms/step - loss: 0.4127 - accuracy: 0.8214\n",
            "Epoch 91/150\n",
            "4/4 [==============================] - 0s 4ms/step - loss: 0.4115 - accuracy: 0.8329\n",
            "Epoch 92/150\n",
            "4/4 [==============================] - 0s 5ms/step - loss: 0.4093 - accuracy: 0.8126\n",
            "Epoch 93/150\n",
            "4/4 [==============================] - 0s 5ms/step - loss: 0.4389 - accuracy: 0.7908\n",
            "Epoch 94/150\n",
            "4/4 [==============================] - 0s 7ms/step - loss: 0.4348 - accuracy: 0.7835\n",
            "Epoch 95/150\n",
            "4/4 [==============================] - 0s 5ms/step - loss: 0.4263 - accuracy: 0.7991\n",
            "Epoch 96/150\n",
            "4/4 [==============================] - 0s 6ms/step - loss: 0.4069 - accuracy: 0.8064\n",
            "Epoch 97/150\n",
            "4/4 [==============================] - 0s 6ms/step - loss: 0.4126 - accuracy: 0.7908\n",
            "Epoch 98/150\n",
            "4/4 [==============================] - 0s 5ms/step - loss: 0.4114 - accuracy: 0.7887\n",
            "Epoch 99/150\n",
            "4/4 [==============================] - 0s 4ms/step - loss: 0.4113 - accuracy: 0.8022\n",
            "Epoch 100/150\n",
            "4/4 [==============================] - 0s 5ms/step - loss: 0.4058 - accuracy: 0.7960\n",
            "Epoch 101/150\n",
            "4/4 [==============================] - 0s 4ms/step - loss: 0.4329 - accuracy: 0.7710\n",
            "Epoch 102/150\n",
            "4/4 [==============================] - 0s 5ms/step - loss: 0.4037 - accuracy: 0.8043\n",
            "Epoch 103/150\n",
            "4/4 [==============================] - 0s 4ms/step - loss: 0.4140 - accuracy: 0.8021\n",
            "Epoch 104/150\n",
            "4/4 [==============================] - 0s 4ms/step - loss: 0.4102 - accuracy: 0.8042\n",
            "Epoch 105/150\n",
            "4/4 [==============================] - 0s 6ms/step - loss: 0.4005 - accuracy: 0.8156\n",
            "Epoch 106/150\n",
            "4/4 [==============================] - 0s 6ms/step - loss: 0.3631 - accuracy: 0.8402\n",
            "Epoch 107/150\n",
            "4/4 [==============================] - 0s 4ms/step - loss: 0.4260 - accuracy: 0.7839\n",
            "Epoch 108/150\n",
            "4/4 [==============================] - 0s 6ms/step - loss: 0.4049 - accuracy: 0.7912\n",
            "Epoch 109/150\n",
            "4/4 [==============================] - 0s 8ms/step - loss: 0.3857 - accuracy: 0.8058\n",
            "Epoch 110/150\n",
            "4/4 [==============================] - 0s 5ms/step - loss: 0.4177 - accuracy: 0.7969\n",
            "Epoch 111/150\n",
            "4/4 [==============================] - 0s 5ms/step - loss: 0.4238 - accuracy: 0.7958\n",
            "Epoch 112/150\n",
            "4/4 [==============================] - 0s 4ms/step - loss: 0.4176 - accuracy: 0.7948\n",
            "Epoch 113/150\n",
            "4/4 [==============================] - 0s 5ms/step - loss: 0.3925 - accuracy: 0.8010\n",
            "Epoch 114/150\n",
            "4/4 [==============================] - 0s 5ms/step - loss: 0.3971 - accuracy: 0.8042\n",
            "Epoch 115/150\n",
            "4/4 [==============================] - 0s 6ms/step - loss: 0.4104 - accuracy: 0.8088\n",
            "Epoch 116/150\n",
            "4/4 [==============================] - 0s 4ms/step - loss: 0.3735 - accuracy: 0.8359\n",
            "Epoch 117/150\n",
            "4/4 [==============================] - 0s 5ms/step - loss: 0.3715 - accuracy: 0.8411\n",
            "Epoch 118/150\n",
            "4/4 [==============================] - 0s 5ms/step - loss: 0.3872 - accuracy: 0.8119\n",
            "Epoch 119/150\n",
            "4/4 [==============================] - 0s 6ms/step - loss: 0.3642 - accuracy: 0.8338\n",
            "Epoch 120/150\n",
            "4/4 [==============================] - 0s 4ms/step - loss: 0.3933 - accuracy: 0.8244\n",
            "Epoch 121/150\n",
            "4/4 [==============================] - 0s 5ms/step - loss: 0.3553 - accuracy: 0.8473\n",
            "Epoch 122/150\n",
            "4/4 [==============================] - 0s 4ms/step - loss: 0.4112 - accuracy: 0.8077\n",
            "Epoch 123/150\n",
            "4/4 [==============================] - 0s 5ms/step - loss: 0.3723 - accuracy: 0.8525\n",
            "Epoch 124/150\n",
            "4/4 [==============================] - 0s 5ms/step - loss: 0.3927 - accuracy: 0.8067\n",
            "Epoch 125/150\n",
            "4/4 [==============================] - 0s 6ms/step - loss: 0.3741 - accuracy: 0.8119\n",
            "Epoch 126/150\n",
            "4/4 [==============================] - 0s 5ms/step - loss: 0.4145 - accuracy: 0.7848\n",
            "Epoch 127/150\n",
            "4/4 [==============================] - 0s 5ms/step - loss: 0.3422 - accuracy: 0.8577\n",
            "Epoch 128/150\n",
            "4/4 [==============================] - 0s 5ms/step - loss: 0.3531 - accuracy: 0.8509\n",
            "Epoch 129/150\n",
            "4/4 [==============================] - 0s 5ms/step - loss: 0.3823 - accuracy: 0.8217\n",
            "Epoch 130/150\n",
            "4/4 [==============================] - 0s 5ms/step - loss: 0.3787 - accuracy: 0.8503\n",
            "Epoch 131/150\n",
            "4/4 [==============================] - 0s 5ms/step - loss: 0.3580 - accuracy: 0.8472\n",
            "Epoch 132/150\n",
            "4/4 [==============================] - 0s 5ms/step - loss: 0.3786 - accuracy: 0.8368\n",
            "Epoch 133/150\n",
            "4/4 [==============================] - 0s 6ms/step - loss: 0.3686 - accuracy: 0.8472\n",
            "Epoch 134/150\n",
            "4/4 [==============================] - 0s 5ms/step - loss: 0.3345 - accuracy: 0.8534\n",
            "Epoch 135/150\n",
            "4/4 [==============================] - 0s 7ms/step - loss: 0.3587 - accuracy: 0.8315\n",
            "Epoch 136/150\n",
            "4/4 [==============================] - 0s 6ms/step - loss: 0.3622 - accuracy: 0.8445\n",
            "Epoch 137/150\n",
            "4/4 [==============================] - 0s 5ms/step - loss: 0.3666 - accuracy: 0.8555\n",
            "Epoch 138/150\n",
            "4/4 [==============================] - 0s 5ms/step - loss: 0.3572 - accuracy: 0.8622\n",
            "Epoch 139/150\n",
            "4/4 [==============================] - 0s 5ms/step - loss: 0.3790 - accuracy: 0.8435\n",
            "Epoch 140/150\n",
            "4/4 [==============================] - 0s 4ms/step - loss: 0.3553 - accuracy: 0.8424\n",
            "Epoch 141/150\n",
            "4/4 [==============================] - 0s 7ms/step - loss: 0.3788 - accuracy: 0.8549\n",
            "Epoch 142/150\n",
            "4/4 [==============================] - 0s 5ms/step - loss: 0.3542 - accuracy: 0.8347\n",
            "Epoch 143/150\n",
            "4/4 [==============================] - 0s 6ms/step - loss: 0.3725 - accuracy: 0.8440\n",
            "Epoch 144/150\n",
            "4/4 [==============================] - 0s 10ms/step - loss: 0.3967 - accuracy: 0.8149\n",
            "Epoch 145/150\n",
            "4/4 [==============================] - 0s 5ms/step - loss: 0.3875 - accuracy: 0.8257\n",
            "Epoch 146/150\n",
            "4/4 [==============================] - 0s 7ms/step - loss: 0.3585 - accuracy: 0.8211\n",
            "Epoch 147/150\n",
            "4/4 [==============================] - 0s 7ms/step - loss: 0.3575 - accuracy: 0.8347\n",
            "Epoch 148/150\n",
            "4/4 [==============================] - 0s 9ms/step - loss: 0.3826 - accuracy: 0.8201\n",
            "Epoch 149/150\n",
            "4/4 [==============================] - 0s 5ms/step - loss: 0.3285 - accuracy: 0.8653\n",
            "Epoch 150/150\n",
            "4/4 [==============================] - 0s 6ms/step - loss: 0.3887 - accuracy: 0.8132\n",
            "4/4 [==============================] - 0s 4ms/step - loss: 0.3544 - accuracy: 0.8482\n",
            "Accuracy: 0.85\n"
          ],
          "name": "stdout"
        }
      ]
    },
    {
      "cell_type": "code",
      "metadata": {
        "id": "MD8Xzgir2yXl"
      },
      "source": [
        ""
      ],
      "execution_count": null,
      "outputs": []
    }
  ]
}